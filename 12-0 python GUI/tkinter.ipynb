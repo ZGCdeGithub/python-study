{
 "cells": [
  {
   "cell_type": "code",
   "execution_count": 3,
   "metadata": {},
   "outputs": [],
   "source": [
    "import tkinter\n",
    "\n",
    "tkinter._test()"
   ]
  },
  {
   "cell_type": "code",
   "execution_count": 4,
   "metadata": {},
   "outputs": [],
   "source": [
    "import tkinter\n",
    "\n",
    "# 创建一个窗口\n",
    "base = tkinter.Tk()\n",
    "# 启动消息循环\n",
    "base.mainloop()"
   ]
  },
  {
   "cell_type": "code",
   "execution_count": 5,
   "metadata": {},
   "outputs": [],
   "source": [
    "import tkinter\n",
    "\n",
    "base = tkinter.Tk()\n",
    "\n",
    "# 设置窗口标题\n",
    "base.wm_title('python GUI')\n",
    "\n",
    "# 创建一个label标签组件\n",
    "lb = tkinter.Label(base, text='this is a label')\n",
    "# 指定组件布局方式\n",
    "lb.pack()\n",
    "\n",
    "base.mainloop()"
   ]
  },
  {
   "cell_type": "code",
   "execution_count": 14,
   "metadata": {},
   "outputs": [],
   "source": [
    "import tkinter\n",
    "\n",
    "base = tkinter.Tk()\n",
    "base.wm_title('这是窗口标题')\n",
    "\n",
    "lb1 = tkinter.Label(base, text='这是一个简单的标签')\n",
    "lb1.pack()\n",
    "\n",
    "lb2 = tkinter.Label(base, text='蓝色背景', background='blue', foreground=\"white\")\n",
    "lb2.pack()\n",
    "\n",
    "lb3 = tkinter.Label(base, text='绿色背景', background='green')\n",
    "lb3.pack()\n",
    "\n",
    "base.mainloop()"
   ]
  },
  {
   "cell_type": "code",
   "execution_count": 20,
   "metadata": {},
   "outputs": [],
   "source": [
    "import tkinter\n",
    "\n",
    "base = tkinter.Tk()\n",
    "base.wm_title('按钮测试界面')\n",
    "\n",
    "bt1 = tkinter.Button(base, text=\"Button,click me!\")\n",
    "bt1.pack()\n",
    "\n",
    "\n",
    "def show_msg():\n",
    "    global base\n",
    "    lab = tkinter.Label(base, text='出现一个label')\n",
    "    lab.pack()\n",
    "\n",
    "# command:表示按钮点击执行的方法\n",
    "bt2 = tkinter.Button(base, text='点击出现Label', background=\"green\", foreground='#fff', command=show_msg)\n",
    "bt2.pack()\n",
    "\n",
    "base.mainloop()"
   ]
  },
  {
   "cell_type": "markdown",
   "metadata": {},
   "source": [
    "### 组件布局\n",
    "- 控制组件的摆放方式\n",
    "- 三种布局：\n",
    "    - pack: 按照方位布局\n",
    "    - place: 按照坐标布局\n",
    "    - grid： 网格布局\n",
    "    \n",
    "- pack布局\n",
    "    - 最简单，代码量最少，挨个摆放，默认从上倒下，系统自动设置\n",
    "    - 通用使用方式为： 组件对象.pack(设置，，，，，，，）\n",
    "    - side: 停靠方位， 可选值为LEFT,TOP,RIGHT,BOTTON\n",
    "    - fill: 填充方式,X,Y,BOTH,NONE\n",
    "    - expande: YES/NO\n",
    "    - anchor: N,E,S,W,CENTER\n",
    "    - ipadx: x方向的内边距\n",
    "    - ipady: y\n",
    "    - padx: x方向外边界\n",
    "    - pady： y........\n",
    "    \n",
    "- grid布局\n",
    "    - 通用使用方式：组件对象.grid(设置,,,,,,,)\n",
    "    - 利用row，column编号，都是从0开始\n",
    "    - sticky： N,E,S,W表示上下左右，用来决定组件从哪个方向开始\n",
    "    - 支持ipadx，padx等参数，跟pack函数含义一样\n",
    "    - 支持rowspan，columnspan，表示跨行，跨列数量\n",
    "\n",
    "- place布局\n",
    "    - 明确方位的摆放\n",
    "    - 相对位置布局，随意改变窗口大小会导致混乱\n",
    "    - 使用place函数，分为绝对布局和相对布局，绝对布局使用x，y参数\n",
    "    - 相对布局使用relx，rely, relheight, relwidth"
   ]
  },
  {
   "cell_type": "code",
   "execution_count": null,
   "metadata": {},
   "outputs": [],
   "source": []
  }
 ],
 "metadata": {
  "kernelspec": {
   "display_name": "Python 3",
   "language": "python",
   "name": "python3"
  },
  "language_info": {
   "codemirror_mode": {
    "name": "ipython",
    "version": 3
   },
   "file_extension": ".py",
   "mimetype": "text/x-python",
   "name": "python",
   "nbconvert_exporter": "python",
   "pygments_lexer": "ipython3",
   "version": "3.7.1"
  }
 },
 "nbformat": 4,
 "nbformat_minor": 2
}
