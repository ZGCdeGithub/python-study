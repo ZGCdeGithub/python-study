{
 "cells": [
  {
   "cell_type": "markdown",
   "metadata": {},
   "source": [
    "# zip\n",
    "- 把两个可迭代的内容一一对应，生成一个可迭代的tuple元素的新内容\n",
    "- 返回的元素个数以最少元素的数量为主"
   ]
  },
  {
   "cell_type": "code",
   "execution_count": 8,
   "metadata": {},
   "outputs": [
    {
     "name": "stdout",
     "output_type": "stream",
     "text": [
      "<zip object at 0x000000000523DA08>\n",
      "[(1, 11), (2, 22), (3, 33), (4, 44), (5, 55)]\n"
     ]
    }
   ],
   "source": [
    "l1 = [1,2,3,4,5]\n",
    "l2 = [11,22,33,44,55,66]\n",
    "res = zip(l1, l2)\n",
    "print(res)\n",
    "print(list(res))"
   ]
  },
  {
   "cell_type": "code",
   "execution_count": 15,
   "metadata": {},
   "outputs": [
    {
     "name": "stdout",
     "output_type": "stream",
     "text": [
      "<zip object at 0x000000000523DDC8>\n",
      "('jack', 89)\n",
      "('mery', 68)\n",
      "('jone', 58)\n",
      "('yuehan', 81)\n"
     ]
    }
   ],
   "source": [
    "l1 = ['jack','mery','jone','yuehan']\n",
    "l2 = [89,68,58,81]\n",
    "res = zip(l1,l2)\n",
    "print(res)\n",
    "# print(list(res))\n",
    "for i in res:\n",
    "    print(i)\n",
    "for j in res:\n",
    "    print(j)\n",
    "    \n",
    "#同一个可迭代对象，迭代多次，只有第一次迭代有有效输出（类似第一次迭代到达尾部后会保存迭代状态，再迭代时，已经到尾部，不会再迭代）"
   ]
  },
  {
   "cell_type": "markdown",
   "metadata": {},
   "source": [
    "# enumerate\n",
    "- 跟zip比较像\n",
    "- 给可迭代对象的每一个元素配个索引，然后将索引个每一个值构成一个tuple的可迭代对象"
   ]
  },
  {
   "cell_type": "code",
   "execution_count": 18,
   "metadata": {},
   "outputs": [
    {
     "name": "stdout",
     "output_type": "stream",
     "text": [
      "<enumerate object at 0x0000000005262C18>\n",
      "(0, 11)\n",
      "(1, 22)\n",
      "(2, 33)\n",
      "(3, 44)\n",
      "(4, 55)\n",
      "(5, 66)\n",
      "(6, 77)\n"
     ]
    }
   ],
   "source": [
    "l = [11,22,33,44,55,66,77]\n",
    "res = enumerate(l)\n",
    "print(res)\n",
    "for i in res:\n",
    "    print(i)"
   ]
  },
  {
   "cell_type": "code",
   "execution_count": 20,
   "metadata": {},
   "outputs": [
    {
     "name": "stdout",
     "output_type": "stream",
     "text": [
      "<enumerate object at 0x0000000005262CA8>\n",
      "(10, 'mick')\n",
      "(11, 'jone')\n",
      "(12, 'jick')\n",
      "(13, 'tony')\n"
     ]
    }
   ],
   "source": [
    "# enumerate默认的索引值从0开始，也可以自定义开始的索引\n",
    "l = ['mick','jone','jick','tony']\n",
    "res = enumerate(l,start=10)\n",
    "print(res)\n",
    "for i in res:\n",
    "    print(i)"
   ]
  },
  {
   "cell_type": "markdown",
   "metadata": {},
   "source": [
    "# collections 模块\n",
    "- namedtuple\n",
    "- deque"
   ]
  },
  {
   "cell_type": "markdown",
   "metadata": {},
   "source": [
    "## namedtuple\n",
    "- 定义一个可命名的tuple"
   ]
  },
  {
   "cell_type": "code",
   "execution_count": 35,
   "metadata": {},
   "outputs": [
    {
     "name": "stdout",
     "output_type": "stream",
     "text": [
      "<class '__main__.point'>\n",
      "point(x=11, y=12)\n",
      "11 12\n",
      "11 12\n",
      "******************************\n",
      "<class '__main__.windows'>\n",
      "windows(w=1200, h=860) 1200 860\n"
     ]
    }
   ],
   "source": [
    "from collections import namedtuple\n",
    "point = namedtuple('point',['x','y'])\n",
    "print(point)\n",
    "p = point(11,12)\n",
    "print(p)\n",
    "print(p.x, p.y)\n",
    "print(p[0], p[1])\n",
    "\n",
    "print('*'*30)\n",
    "\n",
    "screen = namedtuple('windows',['w','h'])\n",
    "print(screen)\n",
    "w = screen(1200,860)\n",
    "print(w,w.w,w.h)\n",
    "# w2 = windows(1920,1080)"
   ]
  },
  {
   "cell_type": "markdown",
   "metadata": {},
   "source": [
    "## dequeue\n",
    "- 比较方便的解决了频繁删除插入带来的效率问题"
   ]
  },
  {
   "cell_type": "code",
   "execution_count": 41,
   "metadata": {},
   "outputs": [
    {
     "name": "stdout",
     "output_type": "stream",
     "text": [
      "deque(['a', 'b', 'c']) b\n",
      "deque(['a', 'b', 'c', 'd'])\n",
      "deque(['1', 'a', 'b', 'c', 'd'])\n"
     ]
    }
   ],
   "source": [
    "from collections import deque\n",
    "\n",
    "q = deque(['a', 'b', 'c'])\n",
    "print(q,q[1])\n",
    "q.append('d')\n",
    "print(q)\n",
    "q.appendleft('1')\n",
    "print(q)"
   ]
  },
  {
   "cell_type": "markdown",
   "metadata": {},
   "source": [
    "## defaultdict\n",
    "- 当读取不存在的dict的key时，解决错误，返回一个默认值"
   ]
  },
  {
   "cell_type": "code",
   "execution_count": 53,
   "metadata": {},
   "outputs": [
    {
     "name": "stdout",
     "output_type": "stream",
     "text": [
      "{'name': 'zgc', 'height': 168, 'weight': 72}\n",
      "defaultdict(<function <lambda> at 0x00000000052E7B70>, {'name': 'zgc', 'height': 168, 'weight': 72})\n",
      "zgc\n",
      "None\n"
     ]
    }
   ],
   "source": [
    "from collections import defaultdict\n",
    "# help(defaultdict)\n",
    "fun = lambda : None\n",
    "d = {\"name\":'zgc','height':168,'weight':72}\n",
    "print(d)\n",
    "# print(d['sex'])   #当访问不存在的可以，会报错\n",
    "d2 = defaultdict(fun,d)\n",
    "print(d2)\n",
    "print(d2['name'])\n",
    "print(d2['sex'])    #当访问不存在的key时，返回一个定义的默认值"
   ]
  },
  {
   "cell_type": "markdown",
   "metadata": {},
   "source": [
    "## Counter\n",
    "- 统计字符串个数"
   ]
  },
  {
   "cell_type": "code",
   "execution_count": 58,
   "metadata": {},
   "outputs": [
    {
     "name": "stdout",
     "output_type": "stream",
     "text": [
      "Counter({'a': 3, 'b': 3, 'c': 2, 'd': 2, 'e': 1, 'j': 1, 'l': 1})\n",
      "Counter({'list': 2, 'set': 2, 'tuple': 1, 'string': 1})\n"
     ]
    }
   ],
   "source": [
    "from collections import Counter\n",
    "\n",
    "s = 'abcdabcdabejl'\n",
    "print(Counter(s))\n",
    "\n",
    "l = ['list','set','tuple','list','set','string']\n",
    "print(Counter(l))"
   ]
  }
 ],
 "metadata": {
  "kernelspec": {
   "display_name": "Python 3",
   "language": "python",
   "name": "python3"
  },
  "language_info": {
   "codemirror_mode": {
    "name": "ipython",
    "version": 3
   },
   "file_extension": ".py",
   "mimetype": "text/x-python",
   "name": "python",
   "nbconvert_exporter": "python",
   "pygments_lexer": "ipython3",
   "version": "3.7.1"
  }
 },
 "nbformat": 4,
 "nbformat_minor": 2
}
