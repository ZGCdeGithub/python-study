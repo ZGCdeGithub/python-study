{
 "cells": [
  {
   "cell_type": "code",
   "execution_count": 3,
   "metadata": {},
   "outputs": [],
   "source": [
    "import logging\n",
    "LOG_FORMAT = '[%(asctime)s] %(levelname)s %(message)s'\n",
    "logging.basicConfig(filename=\"log.log\", level=logging.DEBUG, format=LOG_FORMAT)\n",
    "\n",
    "logging.debug('this is a debug message')\n",
    "logging.info('this is a info message')\n",
    "logging.warning('this is a warning message')\n",
    "logging.error('this is a error message')\n",
    "logging.critical('this is a critical message')"
   ]
  },
  {
   "cell_type": "code",
   "execution_count": null,
   "metadata": {},
   "outputs": [],
   "source": []
  }
 ],
 "metadata": {
  "kernelspec": {
   "display_name": "Python 3",
   "language": "python",
   "name": "python3"
  },
  "language_info": {
   "codemirror_mode": {
    "name": "ipython",
    "version": 3
   },
   "file_extension": ".py",
   "mimetype": "text/x-python",
   "name": "python",
   "nbconvert_exporter": "python",
   "pygments_lexer": "ipython3",
   "version": "3.7.1"
  }
 },
 "nbformat": 4,
 "nbformat_minor": 2
}
