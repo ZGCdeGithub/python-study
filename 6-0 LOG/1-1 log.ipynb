{
 "cells": [
  {
   "cell_type": "code",
   "execution_count": 1,
   "metadata": {},
   "outputs": [],
   "source": [
    "import logging\n",
    "import datetime\n",
    "\n",
    "#定义logging\n",
    "logger = logging.getLogger('myLogger')\n",
    "logger.setLevel(logging.DEBUG)\n",
    "\n",
    "# 为两个不同的文件设置不同的handler\n",
    "rf_handler = logging.handlers.TimedRotatingFileHandler('all.log',when='midnight', interval=1, backupCount=7, atTime=datetime.time(0, 0, 0, 0))\n",
    "rf_handler.setFormatter(logging.Formatter('[%(asctime)s] %(levelname)s - %(message)s'))\n",
    "\n",
    "f_handler = logging.FileHandler('error.log')\n",
    "f_handler.setLevel(logging.ERROR)\n",
    "f_handler.setFormatter(logging.Formatter('[%(asctime)s] %(levelname)s - %(filename)s[:%(lineno)s] - %(message)s'))\n",
    "\n",
    "#注册处理器\n",
    "logger.addHandler(rf_handler)\n",
    "logger.addHandler(f_handler)\n",
    "\n",
    "\n",
    "logger.debug('this is a debug message')\n",
    "logger.info('this is a info message')\n",
    "logger.warning('this is a warning message')\n",
    "logger.error('this is a error message')\n",
    "logger.critical('this is a critical message')"
   ]
  }
 ],
 "metadata": {
  "kernelspec": {
   "display_name": "Python 3",
   "language": "python",
   "name": "python3"
  },
  "language_info": {
   "codemirror_mode": {
    "name": "ipython",
    "version": 3
   },
   "file_extension": ".py",
   "mimetype": "text/x-python",
   "name": "python",
   "nbconvert_exporter": "python",
   "pygments_lexer": "ipython3",
   "version": "3.7.1"
  }
 },
 "nbformat": 4,
 "nbformat_minor": 2
}
