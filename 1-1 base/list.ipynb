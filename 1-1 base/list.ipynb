{
 "cells": [
  {
   "cell_type": "code",
   "execution_count": 34,
   "metadata": {},
   "outputs": [
    {
     "name": "stdout",
     "output_type": "stream",
     "text": [
      "[1, 3, 'abc', True]\n",
      "[]\n",
      "['tuple', 1, 3, 'edf']\n"
     ]
    }
   ],
   "source": [
    "l1 = [1,3,'abc',True]    #创建列表\n",
    "l2 = []\n",
    "l3 = list(('tuple',1,3,'edf'))   #使用list函数将其他数据转换成列表\n",
    "print(l1)\n",
    "print(l2)\n",
    "print(l3)"
   ]
  },
  {
   "cell_type": "code",
   "execution_count": 35,
   "metadata": {},
   "outputs": [
    {
     "name": "stdout",
     "output_type": "stream",
     "text": [
      "[1, 3, 'abc', True, 'tuple', 1, 3, 'edf']\n",
      "[1, 3, 'abc', True, 1, 3, 'abc', True]\n"
     ]
    }
   ],
   "source": [
    "#列表运算\n",
    "l4 = l1+l3\n",
    "print(l4)\n",
    "print(l1*2)"
   ]
  },
  {
   "cell_type": "code",
   "execution_count": 22,
   "metadata": {},
   "outputs": [
    {
     "name": "stdout",
     "output_type": "stream",
     "text": [
      "4 0\n"
     ]
    }
   ],
   "source": [
    "#获取列表的长度\n",
    "print(len(l1),len(l2))"
   ]
  },
  {
   "cell_type": "code",
   "execution_count": 23,
   "metadata": {},
   "outputs": [
    {
     "name": "stdout",
     "output_type": "stream",
     "text": [
      "abc\n"
     ]
    }
   ],
   "source": [
    "#访问列表元素,访问的下标不得超过(实际长度-1)\n",
    "print(l1[2])"
   ]
  },
  {
   "cell_type": "code",
   "execution_count": 24,
   "metadata": {},
   "outputs": [
    {
     "name": "stdout",
     "output_type": "stream",
     "text": [
      "[1, 3, 'abc', True, 111]\n",
      "[1, 3, 0, 'abc', True, 111]\n"
     ]
    }
   ],
   "source": [
    "#添加元素\n",
    "l1.append(111)\n",
    "print(l1)\n",
    "l1.insert(2,000);   #在列表中指定的位置加入元素\n",
    "print(l1)"
   ]
  },
  {
   "cell_type": "code",
   "execution_count": 25,
   "metadata": {},
   "outputs": [
    {
     "name": "stdout",
     "output_type": "stream",
     "text": [
      "修改元素 [999, 3, 0, 'abc', True, 111]\n"
     ]
    }
   ],
   "source": [
    "#修改元素\n",
    "l1[0] = 999;\n",
    "print('修改元素',l1)"
   ]
  },
  {
   "cell_type": "code",
   "execution_count": 26,
   "metadata": {},
   "outputs": [
    {
     "name": "stdout",
     "output_type": "stream",
     "text": [
      "[3, 0, 'abc', True, 111]\n",
      "[3, 0, 'abc', True]\n",
      "[3, 0, True]\n"
     ]
    }
   ],
   "source": [
    "#删除元素\n",
    "del l1[0]\n",
    "print(l1)\n",
    "l1.pop()    #删除最后一个元素\n",
    "print(l1)\n",
    "l1.remove('abc');     #删除指定的值\n",
    "print(l1)"
   ]
  },
  {
   "cell_type": "code",
   "execution_count": 27,
   "metadata": {},
   "outputs": [
    {
     "name": "stdout",
     "output_type": "stream",
     "text": [
      "清空列表 []\n"
     ]
    }
   ],
   "source": [
    "#清空列表\n",
    "l1.clear();\n",
    "print('清空列表',l1);"
   ]
  },
  {
   "cell_type": "code",
   "execution_count": 28,
   "metadata": {},
   "outputs": [
    {
     "name": "stdout",
     "output_type": "stream",
     "text": [
      "['tuple', 1, 3, 'edf']\n"
     ]
    }
   ],
   "source": [
    "#扩展列表\n",
    "l1.extend(l3)\n",
    "print(l1)"
   ]
  },
  {
   "cell_type": "code",
   "execution_count": 29,
   "metadata": {},
   "outputs": [
    {
     "name": "stdout",
     "output_type": "stream",
     "text": [
      "['edf', 3, 1, 'tuple']\n"
     ]
    }
   ],
   "source": [
    "#翻转列表\n",
    "l1.reverse()\n",
    "print(l1)"
   ]
  },
  {
   "cell_type": "code",
   "execution_count": 31,
   "metadata": {},
   "outputs": [
    {
     "name": "stdout",
     "output_type": "stream",
     "text": [
      "0\n",
      "1\n"
     ]
    }
   ],
   "source": [
    "#计算列表中某个元素出现的次数\n",
    "print(l1.count(0))\n",
    "print(l1.count('tuple'))"
   ]
  },
  {
   "cell_type": "code",
   "execution_count": 40,
   "metadata": {},
   "outputs": [
    {
     "name": "stdout",
     "output_type": "stream",
     "text": [
      "84682056 84682056\n",
      "[1, 3, 'abc', True]\n",
      "84682056 84647752\n"
     ]
    }
   ],
   "source": [
    "#列表的赋值为引用传递，即实际上是将等号后的内存地址指向等号前的变量\n",
    "ll1 = l1;\n",
    "print(id(l1),id(ll1))\n",
    "\n",
    "#列表的拷贝,浅拷贝，即只拷贝值，并生产一个新的变量\n",
    "copy_l1 = l1.copy()\n",
    "print(copy_l1)\n",
    "print(id(l1),id(copy_l1))"
   ]
  }
 ],
 "metadata": {
  "kernelspec": {
   "display_name": "Python 3",
   "language": "python",
   "name": "python3"
  },
  "language_info": {
   "codemirror_mode": {
    "name": "ipython",
    "version": 3
   },
   "file_extension": ".py",
   "mimetype": "text/x-python",
   "name": "python",
   "nbconvert_exporter": "python",
   "pygments_lexer": "ipython3",
   "version": "3.7.0"
  }
 },
 "nbformat": 4,
 "nbformat_minor": 2
}
