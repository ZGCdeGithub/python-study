{
 "cells": [
  {
   "cell_type": "code",
   "execution_count": 2,
   "metadata": {},
   "outputs": [
    {
     "name": "stdout",
     "output_type": "stream",
     "text": [
      "<class 'tuple'>\n",
      "()\n",
      "(1,)\n",
      "(1, 999, 'abc', True)\n"
     ]
    }
   ],
   "source": [
    "#创建元组\n",
    "t1 = ();\n",
    "t2 = (1,)    #创建只有一个元素的元组时，必须在元组加一个逗号\n",
    "l = [1,999,'abc',True];\n",
    "t3 = tuple(l);   #使用其他数据转成元组\n",
    "print(type(t1))\n",
    "print(t1)\n",
    "print(t2)\n",
    "print(t3)\n"
   ]
  },
  {
   "cell_type": "code",
   "execution_count": 3,
   "metadata": {},
   "outputs": [
    {
     "name": "stdout",
     "output_type": "stream",
     "text": [
      "abc\n",
      "1  999  abc  True  "
     ]
    }
   ],
   "source": [
    "#访问元组\n",
    "print(t3[2])\n",
    "for i in t3:\n",
    "    print(i,end=\"  \")\n",
    "#print(t3[10])       #若访问下标超出，则会出现错误"
   ]
  },
  {
   "cell_type": "code",
   "execution_count": 4,
   "metadata": {},
   "outputs": [
    {
     "name": "stdout",
     "output_type": "stream",
     "text": [
      "('abc', True)\n"
     ]
    }
   ],
   "source": [
    "#元组切片\n",
    "print(t3[2:10])     #切片时可以超标"
   ]
  },
  {
   "cell_type": "code",
   "execution_count": 5,
   "metadata": {},
   "outputs": [
    {
     "name": "stdout",
     "output_type": "stream",
     "text": [
      "(1, 1, 999, 'abc', True)\n",
      "(1, 999, 'abc', True, 1, 999, 'abc', True)\n"
     ]
    }
   ],
   "source": [
    "#算术操作\n",
    "print(t2 + t3)\n",
    "print(t3*2)"
   ]
  },
  {
   "cell_type": "code",
   "execution_count": 14,
   "metadata": {},
   "outputs": [],
   "source": [
    "#元组不可修改、删除、添加\n",
    "#del t3[0]\n",
    "#t3[0] = 111"
   ]
  },
  {
   "cell_type": "code",
   "execution_count": 9,
   "metadata": {},
   "outputs": [
    {
     "name": "stdout",
     "output_type": "stream",
     "text": [
      "t3的个数： 4\n"
     ]
    }
   ],
   "source": [
    "#获取元组元素个数\n",
    "print('t3的个数：',len(t3))"
   ]
  },
  {
   "cell_type": "code",
   "execution_count": 15,
   "metadata": {},
   "outputs": [
    {
     "name": "stdout",
     "output_type": "stream",
     "text": [
      "(1, 999, 'abc', True)\n",
      "99\n",
      "-78\n",
      "efg\n",
      "Abc\n"
     ]
    }
   ],
   "source": [
    "#最大值\n",
    "print(t3)\n",
    "t_0 = (1,45,99,-78)\n",
    "print(max(t_0))\n",
    "#最小值\n",
    "print(min(t_0))\n",
    "t_1 = ['abc','Abc','efg','Efg'];\n",
    "print(max(t_1))\n",
    "print(min(t_1))\n",
    "#使用max、min时元组元素必须是数字（字符串），不能有混合的类型"
   ]
  },
  {
   "cell_type": "code",
   "execution_count": 18,
   "metadata": {},
   "outputs": [
    {
     "name": "stdout",
     "output_type": "stream",
     "text": [
      "2\n",
      "1\n"
     ]
    }
   ],
   "source": [
    "#查看某个元素在元组中出现的次数\n",
    "t = (1,4,5,'213','abc',1,'213');\n",
    "print(t.count(1))\n",
    "print(t.count(4))"
   ]
  },
  {
   "cell_type": "code",
   "execution_count": 19,
   "metadata": {},
   "outputs": [
    {
     "name": "stdout",
     "output_type": "stream",
     "text": [
      "0\n"
     ]
    }
   ],
   "source": [
    "#获取某个元素的索引值,若该值存在多个，则只返回第一个的索引值\n",
    "t = (1,4,5,'213','abc',1,'213');\n",
    "print(t.index(1))"
   ]
  },
  {
   "cell_type": "markdown",
   "metadata": {},
   "source": [
    "# 变量交换法"
   ]
  },
  {
   "cell_type": "code",
   "execution_count": 21,
   "metadata": {},
   "outputs": [
    {
     "name": "stdout",
     "output_type": "stream",
     "text": [
      "3 4\n",
      "4 3\n"
     ]
    }
   ],
   "source": [
    "a = 3\n",
    "b = 4\n",
    "print(a,b)\n",
    "a,b = b,a\n",
    "print(a,b)"
   ]
  }
 ],
 "metadata": {
  "kernelspec": {
   "display_name": "Python 3",
   "language": "python",
   "name": "python3"
  },
  "language_info": {
   "codemirror_mode": {
    "name": "ipython",
    "version": 3
   },
   "file_extension": ".py",
   "mimetype": "text/x-python",
   "name": "python",
   "nbconvert_exporter": "python",
   "pygments_lexer": "ipython3",
   "version": "3.7.0"
  }
 },
 "nbformat": 4,
 "nbformat_minor": 2
}
