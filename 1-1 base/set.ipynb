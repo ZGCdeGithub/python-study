{
 "cells": [
  {
   "cell_type": "markdown",
   "metadata": {},
   "source": [
    "# 集合\n",
    "- 一组无序的唯一的数据（不存在重复元素）"
   ]
  },
  {
   "cell_type": "markdown",
   "metadata": {},
   "source": [
    "## 定义set"
   ]
  },
  {
   "cell_type": "code",
   "execution_count": 14,
   "metadata": {},
   "outputs": [
    {
     "name": "stdout",
     "output_type": "stream",
     "text": [
      "<class 'set'>\n",
      "{1, 'abc', 3, 5}\n",
      "{1, 33, 11, 44, 22, 55}\n",
      "{1, 2, 3, 4, 5, 6, 7, 8, 9, 10}\n",
      "{2, 4, 6, 8, 10}\n"
     ]
    }
   ],
   "source": [
    "s1 = set()       #创建空的集合\n",
    "print(type(s1))\n",
    "s2 = {1,3,5,'abc',True}\n",
    "print(s2)\n",
    "\n",
    "#若定义的集合有重复的数据，则在初始化后自动去除\n",
    "s3 = {1,11,22,33,44,1,33,55,11}\n",
    "print(s3)\n",
    "\n",
    "s4 = {i for i in range(1,11)}\n",
    "print(s4)\n",
    "s5 = {i for i in range(1,11) if i%2==0}\n",
    "print(s5)"
   ]
  },
  {
   "cell_type": "code",
   "execution_count": 10,
   "metadata": {},
   "outputs": [
    {
     "name": "stdout",
     "output_type": "stream",
     "text": [
      "set exist\n",
      "set not exist\n",
      "1  abc  3  5  **********\n",
      "two -- 2\n",
      "three -- 3\n",
      "one -- 1\n"
     ]
    }
   ],
   "source": [
    "#操作 in not in\n",
    "if 3 in s2:\n",
    "    print('set exist')\n",
    "if 'abc2' not in s2:\n",
    "    print('set not exist')\n",
    "    \n",
    "for v in s2:\n",
    "    print(v,end='  ');\n",
    "s0 = {('one',1),('two',2),('three',3)}\n",
    "print('*'*10)\n",
    "for m,n in s0:\n",
    "    print(m,'--',n)"
   ]
  },
  {
   "cell_type": "code",
   "execution_count": 16,
   "metadata": {},
   "outputs": [
    {
     "name": "stdout",
     "output_type": "stream",
     "text": [
      "5\n"
     ]
    }
   ],
   "source": [
    "#集合的长度\n",
    "print(len(s5))"
   ]
  },
  {
   "cell_type": "code",
   "execution_count": 18,
   "metadata": {},
   "outputs": [
    {
     "name": "stdout",
     "output_type": "stream",
     "text": [
      "10\n",
      "2\n"
     ]
    }
   ],
   "source": [
    "#最大最小值\n",
    "print(max(s5))\n",
    "print(min(s5))"
   ]
  },
  {
   "cell_type": "code",
   "execution_count": 28,
   "metadata": {},
   "outputs": [
    {
     "name": "stdout",
     "output_type": "stream",
     "text": [
      "{1, 33, 11, 44, 22, 55, 'abc'}\n",
      "{1, 33, 11, 44, 22, 55, 'abc'}\n"
     ]
    }
   ],
   "source": [
    "#增加集合元素内容\n",
    "print(s3)\n",
    "s3.add('abc')\n",
    "print(s3)"
   ]
  },
  {
   "cell_type": "code",
   "execution_count": 36,
   "metadata": {},
   "outputs": [
    {
     "name": "stdout",
     "output_type": "stream",
     "text": [
      "{1, 2, 3, 4, 5, 6, 7, 8, 9, 10}\n",
      "{1, 2, 3, 4, 6, 7, 8, 9, 10}\n",
      "{1, 2, 3, 4, 7, 8, 9, 10}\n",
      "{2, 3, 4, 7, 8, 9, 10}\n",
      "set()\n"
     ]
    }
   ],
   "source": [
    "#减少集合元素\n",
    "s4 = {i for i in range(1,11)}\n",
    "print(s4)\n",
    "#移除集合中指定的值，若不存在则报错\n",
    "s4.remove(5)\n",
    "print(s4)\n",
    "#移除集合中指定的值，若不存在不报错\n",
    "s4.discard(6)\n",
    "print(s4)\n",
    "#随机移除一个集合中的元素\n",
    "s4.pop()\n",
    "print(s4)\n",
    "\n",
    "#清空集合中的元素\n",
    "s4.clear()\n",
    "print(s4)"
   ]
  },
  {
   "cell_type": "code",
   "execution_count": 40,
   "metadata": {},
   "outputs": [
    {
     "name": "stdout",
     "output_type": "stream",
     "text": [
      "{1, 2, 3, 4, 5, 6, 7, 8, 9, 10}\n",
      "{1, 2, 3, 4, 5, 6, 7, 8, 9, 10}\n",
      "87131528 87131080\n"
     ]
    }
   ],
   "source": [
    "#集合拷贝，重新生成一份新的值赋值到新的变量中\n",
    "s5 = {i for i in range(1,11)}\n",
    "print(s5)\n",
    "s5_1 = s5.copy()\n",
    "print(s5_1)\n",
    "print(id(s5),id(s5_1))"
   ]
  },
  {
   "cell_type": "code",
   "execution_count": 49,
   "metadata": {},
   "outputs": [
    {
     "name": "stdout",
     "output_type": "stream",
     "text": [
      "{1, 2, 3}\n",
      "{5, 6, 7}\n",
      "{0, 1, 2, 3, 5, 6, 7, -1}\n",
      "True\n",
      "True\n"
     ]
    }
   ],
   "source": [
    "# 集合函数\n",
    "# intersection: 交集\n",
    "# difference:差集\n",
    "# union: 并集\n",
    "# issubset: 检查一个集合是否为另一个子集\n",
    "# issuperset: 检查一个集合是否为另一个超集\n",
    "\n",
    "s1 = {1,2,3}\n",
    "s2 = {1,2,3,5,6,7}\n",
    "s3 = {-1,0,1}\n",
    "print(s1.intersection(s2))\n",
    "print(s2.difference(s1))\n",
    "print(s3.union(s2))\n",
    "print(s1.issubset(s2))\n",
    "print(s2.issuperset(s1))"
   ]
  },
  {
   "cell_type": "code",
   "execution_count": 52,
   "metadata": {},
   "outputs": [
    {
     "name": "stdout",
     "output_type": "stream",
     "text": [
      "{5, 6, 7}\n"
     ]
    }
   ],
   "source": [
    "s1 = {1,2,3}\n",
    "s2 = {1,2,3,5,6,7}\n",
    "s3 = {-1,0,1}\n",
    "print(s2 - s1)"
   ]
  },
  {
   "cell_type": "markdown",
   "metadata": {},
   "source": [
    "# frozen set ：冰冻集合\n",
    "- 冰冻集合不能进行任何修改"
   ]
  },
  {
   "cell_type": "code",
   "execution_count": 55,
   "metadata": {},
   "outputs": [
    {
     "name": "stdout",
     "output_type": "stream",
     "text": [
      "frozenset({1, 3, 'ab'})\n"
     ]
    }
   ],
   "source": [
    "f_set = frozenset([1,3,'ab',True])\n",
    "print(f_set)\n",
    "#f_set.add(-1)"
   ]
  }
 ],
 "metadata": {
  "kernelspec": {
   "display_name": "Python 3",
   "language": "python",
   "name": "python3"
  },
  "language_info": {
   "codemirror_mode": {
    "name": "ipython",
    "version": 3
   },
   "file_extension": ".py",
   "mimetype": "text/x-python",
   "name": "python",
   "nbconvert_exporter": "python",
   "pygments_lexer": "ipython3",
   "version": "3.7.0"
  }
 },
 "nbformat": 4,
 "nbformat_minor": 2
}
