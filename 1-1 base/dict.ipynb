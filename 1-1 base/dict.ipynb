{
 "cells": [
  {
   "cell_type": "markdown",
   "metadata": {},
   "source": [
    "# dict 字典\n",
    "    - 字典是一组key和val的集合\n",
    "    "
   ]
  },
  {
   "cell_type": "code",
   "execution_count": 44,
   "metadata": {},
   "outputs": [
    {
     "name": "stdout",
     "output_type": "stream",
     "text": [
      "<class 'dict'> {}\n",
      "{'one': 1, 'teo': 2, 'three': 3}\n",
      "{'one': 1, 'two': 2, 'three': 3}\n",
      "{'one': 1, 'three': 3}\n"
     ]
    }
   ],
   "source": [
    "#创建字典\n",
    "d1 = {}\n",
    "print(type(d1),d1)\n",
    "\n",
    "d2 = dict(one=1,teo=2,three=3)\n",
    "print(d2)\n",
    "\n",
    "d3 = {'one':1,'two':2,'three':3}\n",
    "print(d3)\n",
    "\n",
    "d4 = dict({'one':1,'three':3})\n",
    "print(d4)"
   ]
  },
  {
   "cell_type": "code",
   "execution_count": 57,
   "metadata": {},
   "outputs": [
    {
     "name": "stdout",
     "output_type": "stream",
     "text": [
      "1\n",
      "1\n",
      "5\n",
      "None <class 'NoneType'>\n",
      "True\n",
      "********************\n",
      "one\n",
      "teo\n",
      "three\n",
      "*******************\n",
      "one 1\n",
      "teo 2\n",
      "three 3\n",
      "********************\n",
      "one\n",
      "teo\n",
      "three\n",
      "********************\n",
      "1\n",
      "2\n",
      "3\n",
      "********************\n",
      "one 1\n",
      "teo 2\n",
      "three 3\n"
     ]
    }
   ],
   "source": [
    "#访问字典元素\n",
    "#print(d1['one'])    #若访问的元素不存在，则会报错\n",
    "\n",
    "print(d2['one'])\n",
    "#print(d2['five'])    #若访问的key不存在，则报错\n",
    "print(d2.get('one'))\n",
    "#使用get访问的key不存在也不会报错，而且可设置默认值\n",
    "print(d2.get('five',5))\n",
    "res = d2.get('night')\n",
    "print(res, type(res))\n",
    "print(res == None)\n",
    "print('*'*20)\n",
    "for k in d2:\n",
    "    print(k)\n",
    "    \n",
    "print('*'*19)\n",
    "\n",
    "for k in d2:\n",
    "    print(k,d2[k])\n",
    "    \n",
    "print('*'*20)\n",
    "\n",
    "for k in d2.keys():\n",
    "    print(k)\n",
    "    \n",
    "print('*'*20)\n",
    "\n",
    "for v in d2.values():\n",
    "    print(v)\n",
    "    \n",
    "print('*'*20)\n",
    "\n",
    "for k,v in d2.items():\n",
    "    print(k,v)"
   ]
  },
  {
   "cell_type": "code",
   "execution_count": 21,
   "metadata": {},
   "outputs": [
    {
     "name": "stdout",
     "output_type": "stream",
     "text": [
      "{'one': 1, 'teo': 2, 'three': 3}\n",
      "True\n",
      "False\n"
     ]
    }
   ],
   "source": [
    "#成员判断,判断的是key是否存在\n",
    "print(d2)\n",
    "\n",
    "print('one' in d2)\n",
    "\n",
    "print('three' not in d2)"
   ]
  },
  {
   "cell_type": "code",
   "execution_count": 25,
   "metadata": {},
   "outputs": [
    {
     "name": "stdout",
     "output_type": "stream",
     "text": [
      "{'one': 1, 'teo': 2, 'three': 3}\n",
      "{'one': 1, 'teo': 2, 'three': 3}\n",
      "{'teo': 2}\n"
     ]
    }
   ],
   "source": [
    "#字典生成式\n",
    "print(d2)\n",
    "\n",
    "d2_1 = {k:v for k,v in d2.items()}\n",
    "print(d2_1)\n",
    "\n",
    "d2_2 = {k:v for k,v in d2.items() if v%2 == 0}\n",
    "print(d2_2)\n"
   ]
  },
  {
   "cell_type": "code",
   "execution_count": 29,
   "metadata": {},
   "outputs": [
    {
     "name": "stdout",
     "output_type": "stream",
     "text": [
      "{'one': 1, 'teo': 2, 'three': 3}\n",
      "{'one': 1, 'teo': 2, 'three': 3} <class 'str'>\n"
     ]
    }
   ],
   "source": [
    "#返回字典的描述字符\n",
    "print(d2)\n",
    "d2_s = str(d2)\n",
    "print(d2_s,type(d2_s))"
   ]
  },
  {
   "cell_type": "code",
   "execution_count": 32,
   "metadata": {},
   "outputs": [
    {
     "name": "stdout",
     "output_type": "stream",
     "text": [
      "{'one': 1, 'teo': 2, 'three': 3}\n",
      "{}\n"
     ]
    }
   ],
   "source": [
    "#清空字典\n",
    "print(d2)\n",
    "d2.clear()\n",
    "print(d2)"
   ]
  },
  {
   "cell_type": "code",
   "execution_count": 43,
   "metadata": {},
   "outputs": [
    {
     "name": "stdout",
     "output_type": "stream",
     "text": [
      "{'one': 1, 'two': 2, 'three': 3}\n",
      "dict_items([('one', 1), ('two', 2), ('three', 3)]) <class 'dict_items'>\n",
      "one --- 1\n",
      "two --- 2\n",
      "three --- 3\n",
      "dict_keys(['one', 'two', 'three']) <class 'dict_keys'>\n",
      "one\n",
      "two\n",
      "three\n",
      "dict_values([1, 2, 3]) <class 'dict_values'>\n",
      "1\n",
      "2\n",
      "3\n"
     ]
    }
   ],
   "source": [
    "print(d3)\n",
    "print(d3.items(),type(d3.items()))\n",
    "for k,v in d3.items():\n",
    "    print(k,'---',v)\n",
    "print(d3.keys(),type(d3.keys()))\n",
    "for k in d3.keys():\n",
    "    print(k)\n",
    "print(d3.values(),type(d3.values()))\n",
    "for v in d3.values():\n",
    "    print(v)\n"
   ]
  }
 ],
 "metadata": {
  "kernelspec": {
   "display_name": "Python 3",
   "language": "python",
   "name": "python3"
  },
  "language_info": {
   "codemirror_mode": {
    "name": "ipython",
    "version": 3
   },
   "file_extension": ".py",
   "mimetype": "text/x-python",
   "name": "python",
   "nbconvert_exporter": "python",
   "pygments_lexer": "ipython3",
   "version": "3.7.0"
  }
 },
 "nbformat": 4,
 "nbformat_minor": 2
}
