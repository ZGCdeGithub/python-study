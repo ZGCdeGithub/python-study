{
 "cells": [
  {
   "cell_type": "code",
   "execution_count": 4,
   "metadata": {},
   "outputs": [
    {
     "name": "stdout",
     "output_type": "stream",
     "text": [
      "0.0\n"
     ]
    }
   ],
   "source": [
    "a = 100\n",
    "b = 0\n",
    "#0可以除任何数，但是任何数都不可除0\n",
    "print(b/a)"
   ]
  },
  {
   "cell_type": "code",
   "execution_count": 2,
   "metadata": {},
   "outputs": [
    {
     "name": "stdout",
     "output_type": "stream",
     "text": [
      "计算错误\n"
     ]
    }
   ],
   "source": [
    "a, b = (100,0)\n",
    "try:\n",
    "    print(a/b)\n",
    "except:\n",
    "    print('计算错误')"
   ]
  },
  {
   "cell_type": "code",
   "execution_count": 9,
   "metadata": {},
   "outputs": [
    {
     "name": "stdout",
     "output_type": "stream",
     "text": [
      "100/? = 0\n",
      "计算：100/0 = \n",
      "Error:\n",
      "['__cause__', '__class__', '__context__', '__delattr__', '__dict__', '__dir__', '__doc__', '__eq__', '__format__', '__ge__', '__getattribute__', '__gt__', '__hash__', '__init__', '__init_subclass__', '__le__', '__lt__', '__ne__', '__new__', '__reduce__', '__reduce_ex__', '__repr__', '__setattr__', '__setstate__', '__sizeof__', '__str__', '__subclasshook__', '__suppress_context__', '__traceback__', 'args', 'with_traceback']\n",
      "division by zero\n"
     ]
    }
   ],
   "source": [
    "try:\n",
    "    a = 100\n",
    "    num = int(input('100/? = '))\n",
    "    print('计算：{0}/{1} = '.format(a, num),end='')\n",
    "    print((a/num))\n",
    "except ZeroDivisionError as e:\n",
    "    print('')\n",
    "    print('Error:')\n",
    "    print(dir(e))\n",
    "    print(e)"
   ]
  },
  {
   "cell_type": "code",
   "execution_count": 20,
   "metadata": {},
   "outputs": [
    {
     "name": "stdout",
     "output_type": "stream",
     "text": [
      "please input a value：as\n",
      "未知错误： invalid literal for int() with base 10: 'as'\n"
     ]
    }
   ],
   "source": [
    "try:\n",
    "    a = 10\n",
    "    b = int(input('please input a value：'))\n",
    "    print('{0} / {1} = {3}'.format(a, b, (a/b)))\n",
    "except ZeroDivisionError as e:\n",
    "    print('输入错误：', e)\n",
    "except NameError as e:\n",
    "    print('变量名异常', e)\n",
    "except AttributeError as e:\n",
    "    print('属性错误：', e)\n",
    "except Exception as e:\n",
    "    print('未知错误：', e)\n",
    "except ValueError as e:\n",
    "    #该异常永远都不会被捕获，因为上一个异常是Exception（最终异常）.因为当异常有多个时，只要捕获一个，则自动结束异常捕获\n",
    "    print('数据值错误: ', e)\n",
    "\n",
    "\n",
    "# 所有的异常都继承自Exception,即若有捕获Exception,则Exception下的捕获都不会执行\n"
   ]
  },
  {
   "cell_type": "code",
   "execution_count": 24,
   "metadata": {},
   "outputs": [
    {
     "name": "stdout",
     "output_type": "stream",
     "text": [
      "please input a value: 10\n",
      "100 / 10 = 10.0\n",
      "程序结束\n"
     ]
    }
   ],
   "source": [
    "try :\n",
    "    a = 100\n",
    "    b = int(input('please input a value: '))\n",
    "    if b <= 0:\n",
    "        raise ValueError('输入的值需大于0')\n",
    "    print('{0} / {1} = {2}'.format(a, b, (a/b)))\n",
    "except ZeroDivisionError as e:\n",
    "    print(e)\n",
    "except ValueError as e:\n",
    "    print('值错误：', e)\n",
    "except Exception as e:\n",
    "    print('未知错误：', e)\n",
    "finally :\n",
    "    print('程序结束')"
   ]
  },
  {
   "cell_type": "code",
   "execution_count": 29,
   "metadata": {},
   "outputs": [
    {
     "name": "stdout",
     "output_type": "stream",
     "text": [
      "please input a value: as\n",
      "值非法 invalid literal for int() with base 10: 'as'\n",
      "程序结束\n"
     ]
    }
   ],
   "source": [
    "try :\n",
    "    a = 100\n",
    "    b = int(input('please input a value: '))\n",
    "    print('%d / %d = %d ' % (a, b, (a/b)))\n",
    "except ZeroDivisionError as e:\n",
    "    print('值不得为0',e)\n",
    "except ValueError as e:\n",
    "    print('值非法', e)\n",
    "except Exception as e:\n",
    "    print('未知错误： ', e)\n",
    "else :\n",
    "    print('*****haah, 没有任何异常******')\n",
    "finally :\n",
    "    print('程序结束')"
   ]
  }
 ],
 "metadata": {
  "kernelspec": {
   "display_name": "Python 3",
   "language": "python",
   "name": "python3"
  },
  "language_info": {
   "codemirror_mode": {
    "name": "ipython",
    "version": 3
   },
   "file_extension": ".py",
   "mimetype": "text/x-python",
   "name": "python",
   "nbconvert_exporter": "python",
   "pygments_lexer": "ipython3",
   "version": "3.7.1"
  }
 },
 "nbformat": 4,
 "nbformat_minor": 2
}
