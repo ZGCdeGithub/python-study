{
 "cells": [
  {
   "cell_type": "markdown",
   "metadata": {},
   "source": [
    "# 迭代器\n",
    "- 可迭代(Iterable):直接作用于for循环的变量\n",
    "- 迭代器(Iterator):不但可以作用于for循环，还可以被next调用\n",
    "- list是典型的可迭代对象，但不是迭代器\n",
    "- 通过isinstance判断\n",
    "- iterable和iterator可以转换\n",
    "    - 通过iter函数"
   ]
  },
  {
   "cell_type": "code",
   "execution_count": 7,
   "metadata": {},
   "outputs": [
    {
     "name": "stdout",
     "output_type": "stream",
     "text": [
      "列表 是可迭代的\n",
      "数字 不可迭代\n",
      "字符串 是可迭代的\n",
      "元组 是可迭代的\n",
      "集合 是可迭代的\n",
      "字典 是可迭代的\n"
     ]
    }
   ],
   "source": [
    "l = [1,3,45,'abv',True]\n",
    "# 判断一个对象是否可迭代\n",
    "from collections import Iterable\n",
    "if isinstance(l, Iterable):\n",
    "    print('列表 是可迭代的')\n",
    "else:\n",
    "    print('列表 是不可迭代的')\n",
    "\n",
    "i = 234\n",
    "if isinstance(i, Iterable):\n",
    "    print('数字 是可迭代的')\n",
    "else:\n",
    "    print('数字 不可迭代')\n",
    "    \n",
    "s = 'abc'\n",
    "if isinstance(s, Iterable):\n",
    "    print('字符串 是可迭代的')\n",
    "else:\n",
    "    print('字符串 是不可迭代的')\n",
    "    \n",
    "t = (123,)\n",
    "if (isinstance(t, Iterable)):\n",
    "    print('元组 是可迭代的')\n",
    "else:\n",
    "    print('元组 是不可迭代的')\n",
    "\n",
    "s = {123,'abc',False,None}\n",
    "if (isinstance(s, Iterable)):\n",
    "    print('集合 是可迭代的')\n",
    "else:\n",
    "    print('集合 不可迭代')\n",
    "    \n",
    "d = {\"name\":\"jack\", \"age\":18, \"sex\":1}\n",
    "if (isinstance(d, Iterable)):\n",
    "    print('字典 是可迭代的')\n",
    "else:\n",
    "    print('字典 不可迭代')"
   ]
  },
  {
   "cell_type": "code",
   "execution_count": 12,
   "metadata": {},
   "outputs": [
    {
     "name": "stdout",
     "output_type": "stream",
     "text": [
      "列表 不是迭代器\n",
      "元组 不是迭代器\n",
      "range生成的对象不是迭代器\n",
      "是迭代器\n"
     ]
    }
   ],
   "source": [
    "# 判断一个对象是否是迭代器\n",
    "\n",
    "from collections.abc import Iterator\n",
    "\n",
    "l = [1,4,'a',True,None]\n",
    "if (isinstance(l, Iterator)):\n",
    "    print('列表 是迭代器')\n",
    "else:\n",
    "    print('列表 不是迭代器')\n",
    "    \n",
    "t = (123,'abc')\n",
    "if isinstance(d, Iterator):\n",
    "    print('元组 是迭代器')\n",
    "else:\n",
    "    print('元组 不是迭代器')\n",
    "    \n",
    "r = range(10)\n",
    "if isinstance(r, Iterator):\n",
    "    print('range生成的对象是迭代器')\n",
    "else:\n",
    "    print('range生成的对象不是迭代器')\n",
    "    \n",
    "# 使用iter()将可迭代对象转换成迭代器\n",
    "l_iter = iter(l)\n",
    "if isinstance(l_iter, Iterator):\n",
    "    print('是迭代器')\n",
    "else:\n",
    "    print('不是迭代器')\n",
    "    "
   ]
  }
 ],
 "metadata": {
  "kernelspec": {
   "display_name": "Python 3",
   "language": "python",
   "name": "python3"
  },
  "language_info": {
   "codemirror_mode": {
    "name": "ipython",
    "version": 3
   },
   "file_extension": ".py",
   "mimetype": "text/x-python",
   "name": "python",
   "nbconvert_exporter": "python",
   "pygments_lexer": "ipython3",
   "version": "3.7.1"
  }
 },
 "nbformat": 4,
 "nbformat_minor": 2
}
