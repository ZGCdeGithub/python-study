{
 "cells": [
  {
   "cell_type": "markdown",
   "metadata": {},
   "source": [
    "# 文件操作\n"
   ]
  },
  {
   "cell_type": "markdown",
   "metadata": {},
   "source": [
    "## open函数\n",
    " - 打开文件，\n",
    " - 参数：file[，model]\n",
    "     - file：文件的路径\n",
    "     - model：\n",
    "           r：只读方式打开(默认),若不存在，则报错\n",
    "           w：写方式打开，若不存在，则创建\n",
    "           x：创建方式打开，若已存在，则报错\n",
    "           a：追加方式打开\n",
    "           b：二进制方式打开，写入\n",
    "           t：文本方法打开\n",
    "           +：读写方式打开"
   ]
  },
  {
   "cell_type": "code",
   "execution_count": 9,
   "metadata": {},
   "outputs": [],
   "source": [
    "# r表示紧跟着的字符不需要转义\n",
    "f = open(r'test.log','w')\n",
    "#写入一些内容\n",
    "f.write('命运就是个棒槌，让我们狠狠的敲打它吧！')\n",
    "#文件操作完后，一定要关闭\n",
    "f.close()\n",
    "\n",
    "f = open('test.log','a')\n",
    "f.write('\\r\\t\\t出自《斗战狂潮》')\n",
    "f.close()"
   ]
  },
  {
   "cell_type": "markdown",
   "metadata": {},
   "source": [
    "## with 语句\n",
    " - with语句使用的技术是一种成为上下文管理协议的技术(ContextManagementProtocal)\n",
    " - 自动判断文件的 作用域， 自动关闭不在使用的打开的文件句柄"
   ]
  },
  {
   "cell_type": "code",
   "execution_count": 15,
   "metadata": {},
   "outputs": [],
   "source": [
    "with open('test-with.log','a') as f:\n",
    "    pass"
   ]
  },
  {
   "cell_type": "code",
   "execution_count": 17,
   "metadata": {},
   "outputs": [
    {
     "name": "stdout",
     "output_type": "stream",
     "text": [
      "命运就是个棒槌，让我们狠狠的敲打它吧！\n",
      "\n",
      "\t\t出自《斗战狂潮》\n"
     ]
    }
   ],
   "source": [
    "with open('test.log','r') as f:\n",
    "    line = f.readline()\n",
    "    while line:\n",
    "        print(line)\n",
    "        line = f.readline()"
   ]
  },
  {
   "cell_type": "code",
   "execution_count": 19,
   "metadata": {},
   "outputs": [
    {
     "name": "stdout",
     "output_type": "stream",
     "text": [
      "['命运就是个棒槌，让我们狠狠的敲打它吧！\\n', '\\t\\t出自《斗战狂潮》']\n"
     ]
    }
   ],
   "source": [
    "with open('test.log','r') as f:\n",
    "    l = list(f)\n",
    "    print(l)"
   ]
  },
  {
   "cell_type": "code",
   "execution_count": 23,
   "metadata": {},
   "outputs": [
    {
     "name": "stdout",
     "output_type": "stream",
     "text": [
      "命运就是个棒槌，让我们狠狠的敲打它吧！\n",
      "\t\t出自《斗战狂潮》"
     ]
    }
   ],
   "source": [
    "# read 读取指定个数的字符数，若没有指定，则默认读取到文件结尾\n",
    "with open('test.log','r') as f:\n",
    "    cnt = f.read(1)\n",
    "    while cnt:\n",
    "        print(cnt,end='')\n",
    "        cnt = f.read(1)"
   ]
  },
  {
   "cell_type": "markdown",
   "metadata": {},
   "source": [
    "## seek(offset, from)\n",
    " - 移动文件的读取范围，也叫读取指针\n",
    " - from的取值\n",
    "     0：文件的开头\n",
    "     1：当前位置\n",
    "     2：文件的结尾\n",
    " - 移动的单位是字节"
   ]
  },
  {
   "cell_type": "code",
   "execution_count": 33,
   "metadata": {},
   "outputs": [
    {
     "name": "stdout",
     "output_type": "stream",
     "text": [
      "是个棒槌，让我们狠狠的敲打它吧！\n",
      "\t\t出自《斗战狂潮》\n"
     ]
    }
   ],
   "source": [
    "with open('test.log','r') as f:\n",
    "    f.seek(6,0)\n",
    "    print(f.read())"
   ]
  },
  {
   "cell_type": "code",
   "execution_count": 34,
   "metadata": {
    "scrolled": true
   },
   "outputs": [
    {
     "name": "stdout",
     "output_type": "stream",
     "text": [
      "命运就\n",
      "是个棒\n",
      "槌，让\n",
      "我们狠\n",
      "狠的敲\n",
      "打它吧\n",
      "！\n",
      "\t\n",
      "\t出自\n",
      "《斗战\n",
      "狂潮》\n"
     ]
    }
   ],
   "source": [
    "import time\n",
    "\n",
    "with open('test.log','r') as f:\n",
    "    cnt = f.read(3)\n",
    "    while cnt:\n",
    "        print(cnt)\n",
    "        time.sleep(1)\n",
    "        cnt = f.read(3)"
   ]
  },
  {
   "cell_type": "code",
   "execution_count": 39,
   "metadata": {},
   "outputs": [
    {
     "name": "stdout",
     "output_type": "stream",
     "text": [
      "seek： 10\n",
      "命运就是个\n",
      "seek： 20\n",
      "棒槌，让我\n",
      "seek： 30\n",
      "们狠狠的敲\n",
      "seek： 340282367000166625996085689099021713447\n",
      "打它吧！\n",
      "\n",
      "seek： 47\n",
      "\t\t出自《\n",
      "seek： 57\n",
      "斗战狂潮》\n"
     ]
    }
   ],
   "source": [
    "import time\n",
    "\n",
    "with open('test.log','r') as f:\n",
    "    cnt = f.read(5)\n",
    "    pos = f.tell()\n",
    "    while cnt:\n",
    "        print('seek：',pos)\n",
    "        print(cnt)\n",
    "        cnt = f.read(5)\n",
    "        pos = f.tell()"
   ]
  },
  {
   "cell_type": "markdown",
   "metadata": {},
   "source": [
    "# 文件的写操作\n",
    " - write : 写入字符串内容\n",
    " - writeline : 将字符串按行写入\n",
    "     - 区别\n",
    "     - write：参数只能是字符串\n",
    "     - writelines：参数可以是字符串，也可以是字符串序列"
   ]
  },
  {
   "cell_type": "code",
   "execution_count": 41,
   "metadata": {},
   "outputs": [],
   "source": [
    "with open('test2.txt','w') as f:\n",
    "    f.write('白日依山尽，\\n黄河入海流，\\n欲穷千里目，\\n更上一层楼。')\n"
   ]
  },
  {
   "cell_type": "code",
   "execution_count": 47,
   "metadata": {},
   "outputs": [],
   "source": [
    "l = ['床前明月光', '疑似地上霜', '举头望明月', '低头思故乡']\n",
    "with open('test2.txt','w') as f:\n",
    "    f.writelines(l);"
   ]
  },
  {
   "cell_type": "markdown",
   "metadata": {},
   "source": [
    "# 持久化 pickle\n",
    "- 序列化（持久化，落地）：把程序运行中的信息保存在磁盘上\n",
    "- 反序列化： 序列号的逆过程\n",
    "- pickle： python提供的序列化模块\n",
    "- pickle.dump:序列化\n",
    "- pickle.load:反序列化"
   ]
  },
  {
   "cell_type": "code",
   "execution_count": 61,
   "metadata": {},
   "outputs": [],
   "source": [
    "import pickle\n",
    "\n",
    "l = ['mick','tony','jane','marry']\n",
    "with open('pcikle_1.tmp','wb') as f:\n",
    "    pickle.dump(l, f)"
   ]
  },
  {
   "cell_type": "code",
   "execution_count": 62,
   "metadata": {},
   "outputs": [
    {
     "name": "stdout",
     "output_type": "stream",
     "text": [
      "['mick', 'tony', 'jane', 'marry']\n"
     ]
    }
   ],
   "source": [
    "with open('pcikle_1.tmp','rb') as f:\n",
    "    t = pickle.load(f)\n",
    "    print(t)"
   ]
  },
  {
   "cell_type": "markdown",
   "metadata": {},
   "source": [
    "# 持久化 shelve\n",
    " - 使用key->val保存数据"
   ]
  },
  {
   "cell_type": "code",
   "execution_count": 64,
   "metadata": {},
   "outputs": [],
   "source": [
    "import shelve\n",
    "\n",
    "shv = shelve.open('shelve_1.tmp')\n",
    "shv['l'] = ['tony','mick','jone']\n",
    "shv['i'] = 101\n",
    "shv.close()"
   ]
  },
  {
   "cell_type": "code",
   "execution_count": 74,
   "metadata": {},
   "outputs": [
    {
     "name": "stdout",
     "output_type": "stream",
     "text": [
      "<shelve.DbfilenameShelf object at 0x00000000060CD8D0>\n",
      "l ['tony', 'mick', 'jone']\n",
      "i 101\n",
      "101\n",
      "b'j'\n"
     ]
    }
   ],
   "source": [
    "shv = shelve.open('shelve_1.tmp')\n",
    "try:\n",
    "    print(shv)\n",
    "    for i,v in shv.items():\n",
    "        print(i,v)\n",
    "    print(shv[i])\n",
    "    print(shv['j'])\n",
    "except Exception as e:\n",
    "    print(e)\n",
    "finally:\n",
    "    shv.close()"
   ]
  },
  {
   "cell_type": "markdown",
   "metadata": {},
   "source": [
    "## shelve特性\n",
    " - 不支持多个应用并行写入、\n",
    "     - 为了解决这个问题，open的时候可以使用flag=r\n",
    " - 写会问题\n",
    "     - shelve恶魔人情况下不会等待持久化对象进行任何修改\n",
    "     - 解决方法： 强制写回：writeback=True"
   ]
  },
  {
   "cell_type": "code",
   "execution_count": 77,
   "metadata": {},
   "outputs": [
    {
     "name": "stdout",
     "output_type": "stream",
     "text": [
      "['tony', 'mick', 'jone']\n"
     ]
    }
   ],
   "source": [
    "# shelve只读方式打开\n",
    "import shelve\n",
    "shv = shelve.open('shelve_1.tmp', flag='r')\n",
    "\n",
    "try:\n",
    "    t = shv['l']\n",
    "    print(t)\n",
    "except Exception as e:\n",
    "    print('error: ',e)\n",
    "finally:\n",
    "    shv.close();"
   ]
  },
  {
   "cell_type": "code",
   "execution_count": 80,
   "metadata": {},
   "outputs": [
    {
     "name": "stdout",
     "output_type": "stream",
     "text": [
      "101\n"
     ]
    }
   ],
   "source": [
    "# 开启强制写会，防止数据没有写入\n",
    "shv = shelve.open('shelve_1.tmp',writeback=True)\n",
    "\n",
    "try:\n",
    "    tmp = shv['i']\n",
    "    print(tmp)\n",
    "    shv['s'] = {\"123\",'abc',True}\n",
    "except Exception as e:\n",
    "    print('error: ', e)\n",
    "finally:\n",
    "    shv.close()\n",
    "    \n"
   ]
  },
  {
   "cell_type": "code",
   "execution_count": 81,
   "metadata": {},
   "outputs": [
    {
     "name": "stdout",
     "output_type": "stream",
     "text": [
      "l ['tony', 'mick', 'jone']\n",
      "i 101\n",
      "s {True, '123', 'abc'}\n"
     ]
    }
   ],
   "source": [
    "# 使用with语句操作shelve\n",
    "with shelve.open('shelve_1.tmp',writeback=True) as shv:\n",
    "    for k,v in shv.items():\n",
    "        print(k, v)"
   ]
  }
 ],
 "metadata": {
  "kernelspec": {
   "display_name": "Python 3",
   "language": "python",
   "name": "python3"
  },
  "language_info": {
   "codemirror_mode": {
    "name": "ipython",
    "version": 3
   },
   "file_extension": ".py",
   "mimetype": "text/x-python",
   "name": "python",
   "nbconvert_exporter": "python",
   "pygments_lexer": "ipython3",
   "version": "3.7.1"
  }
 },
 "nbformat": 4,
 "nbformat_minor": 2
}
