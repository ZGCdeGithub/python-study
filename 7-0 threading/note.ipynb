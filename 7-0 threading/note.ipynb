{
 "cells": [
  {
   "cell_type": "markdown",
   "metadata": {},
   "source": [
    "# 多线程实现\n",
    " - thread 有问题，python3更名为_thread\n",
    " - threading 大多在用的"
   ]
  },
  {
   "cell_type": "markdown",
   "metadata": {},
   "source": [
    "## thread\n",
    " - 主线程无法等待子进程完成\n",
    " - 主线程执行完后，子进程也自动退出\n",
    " - 实际的执行时间是主线程的执行时间\n",
    " \n",
    "\n",
    "### 用法：\n",
    "    import _thread as thread\n",
    "    \n",
    "    thread.start_new_thread(fun,args)\n",
    "    # fun 要执行的函数名称\n",
    "    # args 参数，必须是tuple形式"
   ]
  },
  {
   "cell_type": "code",
   "execution_count": null,
   "metadata": {},
   "outputs": [],
   "source": [
    "## threading\n",
    " - 与thread相比，即使主进程结束，子进程仍会继续执行，直到结束执行"
   ]
  }
 ],
 "metadata": {
  "kernelspec": {
   "display_name": "Python 3",
   "language": "python",
   "name": "python3"
  },
  "language_info": {
   "codemirror_mode": {
    "name": "ipython",
    "version": 3
   },
   "file_extension": ".py",
   "mimetype": "text/x-python",
   "name": "python",
   "nbconvert_exporter": "python",
   "pygments_lexer": "ipython3",
   "version": "3.7.1"
  }
 },
 "nbformat": 4,
 "nbformat_minor": 2
}
