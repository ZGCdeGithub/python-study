{
 "cells": [
  {
   "cell_type": "markdown",
   "metadata": {},
   "source": [
    "## lambda 表达式\n",
    "- 函数： 最大程度复用代码\n",
    "    - 存在问题： 如果函数很小，很短，则会造成啰嗦\n",
    "    - 如果函数被调用次数少，则会造成浪费\n",
    "    - 对于阅读者来说，造成阅读流程的被迫中断\n",
    "   \n",
    "- lambda表达式（匿名函数）：\n",
    "    - 一个表达式，函数体相对简单\n",
    "    - 不是一个代码块，仅仅是一个表达式\n",
    "    - 可以有参数，有多个参数也可以，用逗号隔开"
   ]
  },
  {
   "cell_type": "code",
   "execution_count": 3,
   "metadata": {},
   "outputs": [
    {
     "name": "stdout",
     "output_type": "stream",
     "text": [
      "20\n",
      "20\n"
     ]
    }
   ],
   "source": [
    "# lambda表达式的用法\n",
    "# 1. 以lambda开头\n",
    "# 2. 紧跟一定的参数（如果有的话）\n",
    "# 3. 参数后用冒号和表达式主题隔开\n",
    "# 4. 只是一个表达式，所以，没有return\n",
    "\n",
    "# 计算一个数字的100倍数\n",
    "# 因为就是一个表达式，所以没有return\n",
    "\n",
    "def a(num):\n",
    "    res = num + 10\n",
    "    return res\n",
    "\n",
    "print(a(10))\n",
    "\n",
    "b = lambda n: n + 10\n",
    "print(b(10))"
   ]
  },
  {
   "cell_type": "markdown",
   "metadata": {},
   "source": [
    "## 高阶函数\n",
    "- 把函数当成变量当成参数传递的函数就是高阶函数"
   ]
  },
  {
   "cell_type": "code",
   "execution_count": 9,
   "metadata": {},
   "outputs": [
    {
     "name": "stdout",
     "output_type": "stream",
     "text": [
      "50\n",
      "51\n",
      "49\n"
     ]
    }
   ],
   "source": [
    "def m(n):\n",
    "    return n*10\n",
    "\n",
    "def a(m,f):\n",
    "    return f(m)+1\n",
    "\n",
    "def b(m,f):\n",
    "    return f(m)-1\n",
    "\n",
    "print(m(5))\n",
    "print(a(5,m))\n",
    "print(b(5,m))"
   ]
  },
  {
   "cell_type": "markdown",
   "metadata": {},
   "source": [
    "## map\n",
    "- 对集合按照某一规则逐一进行操作\n",
    "- 返回的是一个map对象"
   ]
  },
  {
   "cell_type": "code",
   "execution_count": 35,
   "metadata": {},
   "outputs": [
    {
     "name": "stdout",
     "output_type": "stream",
     "text": [
      "[0, 1, 2, 3, 4, 5, 6, 7, 8, 9]\n",
      "<class 'map'>\n",
      "[0, 10, 20, 30, 40, 50, 60, 70, 80, 90]\n",
      "<class 'map'>\n"
     ]
    }
   ],
   "source": [
    "#将一个列表中的数字，都放大10倍\n",
    "l = [i for i in range(10)]\n",
    "print(l)\n",
    "def fun(n):\n",
    "    return n*10;\n",
    "l2 = map(fun, l)\n",
    "print(type(l2))\n",
    "print(list(l2))\n",
    "print(type(l2))\n",
    "for i in l2:\n",
    "    print(i,'123')"
   ]
  },
  {
   "cell_type": "markdown",
   "metadata": {},
   "source": [
    "## reduce\n",
    "- 原意是归并，缩减\n",
    "- 把一个可迭代对象最后归并成一个结果\n",
    "- 对于作为参数的函数要求： 必须由两个参数，必须由返回结果\n",
    "- reduce([1,2,3,4,5]) == f( f(f(f(1,2),3), 4),5)\n",
    "- reduce 需要导入functools包"
   ]
  },
  {
   "cell_type": "code",
   "execution_count": 39,
   "metadata": {},
   "outputs": [
    {
     "name": "stdout",
     "output_type": "stream",
     "text": [
      "[0, 1, 2, 3, 4, 5, 6, 7, 8, 9, 10]\n",
      "[0, 1, 2, 3, 4, 5, 6, 7, 8, 9, 10]\n",
      "55 <class 'int'>\n"
     ]
    }
   ],
   "source": [
    "from functools import reduce\n",
    "\n",
    "def add_o(x,y):\n",
    "    return x+y\n",
    "\n",
    "l = [i for i in range(11)]\n",
    "print(l)\n",
    "\n",
    "ret = reduce(add_o,l)\n",
    "print(l)\n",
    "print(ret,type(ret))"
   ]
  },
  {
   "cell_type": "markdown",
   "metadata": {},
   "source": [
    "## filter\n",
    "- 过滤函数： 对一组数据进行过滤，符合条件的数据会生成一个新的列表并返回\n",
    "- 跟map相比较：\n",
    "    - 相同：都对列表的每一个元素逐一进行操作\n",
    "    - 不同：\n",
    "        - map会生成一个跟原来数据想对应的新队列\n",
    "        - filter不一定，只要符合条件的才会进入新的数据集合\n",
    "    - filter函数怎么写：\n",
    "        - 利用给定函数进行判断\n",
    "        - 返回值一定是个布尔值\n",
    "        - 调用格式： filter(f, data), f是过滤函数， data是数据"
   ]
  },
  {
   "cell_type": "code",
   "execution_count": 42,
   "metadata": {},
   "outputs": [
    {
     "name": "stdout",
     "output_type": "stream",
     "text": [
      "[0, 1, 2, 3, 4, 5, 6, 7, 8, 9, 10]\n",
      "[0, 1, 2, 3, 4, 5, 6, 7, 8, 9, 10]\n",
      "[0, 2, 4, 6, 8, 10]\n"
     ]
    }
   ],
   "source": [
    "def is_even(x):\n",
    "    if x%2 == 0:\n",
    "        return True\n",
    "    else:\n",
    "        return False\n",
    "    \n",
    "l = [i for i in range(11)]\n",
    "print(l)\n",
    "ret = filter(is_even,l)\n",
    "print(l)\n",
    "print(list(ret))"
   ]
  },
  {
   "cell_type": "markdown",
   "metadata": {},
   "source": [
    "## 高阶函数--排序\n",
    "- 把一个序列按照给定算法进行排序\n",
    "- key: 在排序钱对每一个元素进行key函数运算，可以理解成按照key函数定义的逻辑进行排序\n",
    "- python2 和 python3 相差巨大"
   ]
  },
  {
   "cell_type": "code",
   "execution_count": 51,
   "metadata": {},
   "outputs": [
    {
     "name": "stdout",
     "output_type": "stream",
     "text": [
      "[0, 2, -23, 89, 90, -100, 999]\n",
      "[999, 90, 89, 2, 0, -23, -100]\n"
     ]
    }
   ],
   "source": [
    "# sorted 对一个序列进行排序\n",
    "# 参数\n",
    "# sequence 一个可排序的序列\n",
    "# key 排序函数\n",
    "# reverse 规定返回的序列是递增还是递减，True:递减，False:递增\n",
    "# help(sorted)\n",
    "import math\n",
    "def fun(x,y):\n",
    "    return math.abs(x) > math.abs(y)\n",
    "l = [0, -23,89,90,-100,2,999]\n",
    "print(sorted(l,reverse=False,key=abs))\n",
    "print(sorted(l,reverse=True))"
   ]
  },
  {
   "cell_type": "code",
   "execution_count": 57,
   "metadata": {},
   "outputs": [
    {
     "name": "stdout",
     "output_type": "stream",
     "text": [
      "['txt', 'opg', 'cef', 'abc', 'Efg', 'Afh']\n",
      "['Afh', 'Efg', 'abc', 'cef', 'opg', 'txt']\n",
      "['abc', 'Afh', 'cef', 'Efg', 'opg', 'txt']\n"
     ]
    }
   ],
   "source": [
    "l2 = ['abc','Efg','cef','Afh','opg','txt']\n",
    "print(sorted(l2,reverse=True))\n",
    "print(sorted(l2,reverse=False))\n",
    "print(sorted(l2,key=str.lower))"
   ]
  },
  {
   "cell_type": "markdown",
   "metadata": {},
   "source": [
    "## 返回函数\n",
    "- 一个函数可以返回一个具体的值，也可以返回另一个函数"
   ]
  },
  {
   "cell_type": "code",
   "execution_count": 61,
   "metadata": {},
   "outputs": [
    {
     "name": "stdout",
     "output_type": "stream",
     "text": [
      "<function a.<locals>.<lambda> at 0x00000000050FEB70>\n",
      "20\n"
     ]
    }
   ],
   "source": [
    "# a函数的返回值时一个函数，要想知道最后的结果，必须调用返回的函数\n",
    "def a(n):\n",
    "    return lambda :n+10\n",
    "\n",
    "res = a(10)\n",
    "print(res)\n",
    "print(res())"
   ]
  },
  {
   "cell_type": "code",
   "execution_count": 64,
   "metadata": {},
   "outputs": [
    {
     "name": "stdout",
     "output_type": "stream",
     "text": [
      "<function fun1.<locals>.fun1_1 at 0x00000000050FEC80>\n",
      "25\n"
     ]
    }
   ],
   "source": [
    "def fun1(*args):\n",
    "    def fun1_1():\n",
    "        res = 0;\n",
    "        for i in args:\n",
    "            res += i\n",
    "        return res\n",
    "    return fun1_1\n",
    "\n",
    "r_fun = fun1(1,3,5,7,9)\n",
    "print(r_fun)\n",
    "print(r_fun())"
   ]
  },
  {
   "cell_type": "markdown",
   "metadata": {},
   "source": [
    "## 闭包\n",
    "- 当一个函数在内部定义函数，并且内部的函数使用外部函数的参数或者局部变量，当内部函数被当做返回值的时候，相关参数和变量保存在返回的函数中，这种结果，叫闭包\n",
    "- 上面定义的fun1是一个标准闭包结构"
   ]
  },
  {
   "cell_type": "code",
   "execution_count": 71,
   "metadata": {},
   "outputs": [
    {
     "name": "stdout",
     "output_type": "stream",
     "text": [
      "9\n",
      "9\n",
      "9\n"
     ]
    }
   ],
   "source": [
    "def fun2():\n",
    "    l = []\n",
    "    for i in range(1,4):\n",
    "        def f():\n",
    "            return i*i\n",
    "        l.append(f)\n",
    "    return l\n",
    "f1,f2,f3 = fun2()\n",
    "print(f1())\n",
    "print(f2())\n",
    "print(f3())"
   ]
  },
  {
   "cell_type": "markdown",
   "metadata": {},
   "source": [
    "### 出现的问题：\n",
    "- 造成上述状况的原因是,返回函数引用了变量i， i并非立即执行，而是等到三个函数都返回的时候才统一使用，此时i已经变成了3，最终调用的时候，都返回的是 3*3\n",
    "- 此问题描述成：返回闭包时，返回函数不能引用任何循环变量\n",
    "- 解决方案： 再创建一个函数，用该函数的参数绑定循环变量的当前值，无论该循环变量以后如何改变，已经绑定的函数参数值不再改变"
   ]
  },
  {
   "cell_type": "code",
   "execution_count": 78,
   "metadata": {},
   "outputs": [
    {
     "name": "stdout",
     "output_type": "stream",
     "text": [
      "1\n",
      "4\n",
      "9\n",
      "******************************\n",
      "<function fun2_2.<locals>.f.<locals>.g at 0x00000000050FE2F0> 1\n",
      "<function fun2_2.<locals>.f.<locals>.g at 0x00000000050FEF28> 4\n",
      "<function fun2_2.<locals>.f.<locals>.g at 0x00000000050FE510> 9\n"
     ]
    }
   ],
   "source": [
    "def fun2_1():\n",
    "    l = []\n",
    "    for i in range(1,4):\n",
    "        def f(n):\n",
    "            return n*n\n",
    "        l.append(f(i))\n",
    "    return l\n",
    "\n",
    "f1,f2,f3 = fun2_1();\n",
    "print(f1)\n",
    "print(f2)\n",
    "print(f3)\n",
    "#虽然改正了过来，但是返回的不是函数了\n",
    "print('*'*30)\n",
    "def fun2_2():\n",
    "    l = []\n",
    "    for i in range(1,4):\n",
    "        def f(n):\n",
    "            def g():\n",
    "                return n*n;\n",
    "            return g\n",
    "        l.append(f(i))\n",
    "    return l\n",
    "f1,f2,f3 = fun2_2()\n",
    "print(f1,f1())\n",
    "print(f2,f2())\n",
    "print(f3,f3())"
   ]
  },
  {
   "cell_type": "markdown",
   "metadata": {},
   "source": [
    "## 装饰器(Decrator)\n",
    "- 在不改动函数代码的基础上无限制扩展函数功能的一种机制，本质上讲，装饰器是一个返回函数的高阶函数\n",
    "- 装饰器的使用： 使用@语法， 即在每次要扩展到函数定义前使用@+函数名"
   ]
  },
  {
   "cell_type": "code",
   "execution_count": 84,
   "metadata": {},
   "outputs": [
    {
     "name": "stdout",
     "output_type": "stream",
     "text": [
      "hello word!\n",
      "**************************************************\n",
      "now： Wed Jan  2 11:58:08 2019\n",
      "hello word!\n"
     ]
    }
   ],
   "source": [
    "def hello():\n",
    "    print('hello word!')\n",
    "    \n",
    "hello()\n",
    "\n",
    "print('*'*50)\n",
    "#实现：在不改动hello函数的前提下，每次调用hello时打印出系统时间\n",
    "import time\n",
    "\n",
    "#定义一个装饰器\n",
    "def printTime(f):\n",
    "    def wrapper(*args, **kwargs):\n",
    "        print('now：',time.ctime())\n",
    "        return f(*args, **kwargs)\n",
    "    return wrapper\n",
    "\n",
    "@printTime\n",
    "def hello2():\n",
    "    print('hello word!')\n",
    "    \n",
    "hello2()\n",
    "\n",
    "# 装饰器的好处是，一点定义，则可以装饰任意函数\n",
    "# 一旦被其装饰，则则把装饰器的功能直接添加到定义函数的功能上"
   ]
  },
  {
   "cell_type": "code",
   "execution_count": 97,
   "metadata": {},
   "outputs": [
    {
     "name": "stdout",
     "output_type": "stream",
     "text": [
      "hello3 word!\n",
      "********************\n",
      "now： Wed Jan  2 13:55:33 2019\n",
      "hello3 word!\n",
      "********************\n",
      "now： Wed Jan  2 13:55:33 2019\n",
      "now： Wed Jan  2 13:55:33 2019\n",
      "hello3 word!\n"
     ]
    }
   ],
   "source": [
    "#手动调用装饰器\n",
    "def hello3():\n",
    "    print('hello3 word!')\n",
    "hello3()\n",
    "print('*'*20)\n",
    "h = printTime(hello3)\n",
    "h()\n",
    "print('*'*20)\n",
    "f = printTime(h)\n",
    "f()"
   ]
  },
  {
   "cell_type": "markdown",
   "metadata": {},
   "source": [
    "## 偏函数\n",
    "- 参数固定的函数，相当于一个由特定参数的函数体\n",
    "- functools.partial的作用是，把一个函数某些函数固定，返回一个新函数"
   ]
  },
  {
   "cell_type": "code",
   "execution_count": 106,
   "metadata": {},
   "outputs": [
    {
     "name": "stdout",
     "output_type": "stream",
     "text": [
      "16\n",
      "22\n",
      "16\n"
     ]
    }
   ],
   "source": [
    "import functools\n",
    "\n",
    "int16 = functools.partial(int,base=16)\n",
    "print(int16('10'))\n",
    "print(int16('16'))\n",
    "print(int('10',16))"
   ]
  }
 ],
 "metadata": {
  "kernelspec": {
   "display_name": "Python 3",
   "language": "python",
   "name": "python3"
  },
  "language_info": {
   "codemirror_mode": {
    "name": "ipython",
    "version": 3
   },
   "file_extension": ".py",
   "mimetype": "text/x-python",
   "name": "python",
   "nbconvert_exporter": "python",
   "pygments_lexer": "ipython3",
   "version": "3.7.1"
  }
 },
 "nbformat": 4,
 "nbformat_minor": 2
}
