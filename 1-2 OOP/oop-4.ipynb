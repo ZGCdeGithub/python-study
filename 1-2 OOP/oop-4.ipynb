{
 "cells": [
  {
   "cell_type": "code",
   "execution_count": null,
   "metadata": {},
   "outputs": [],
   "source": [
    "class Student():\n",
    "    \n",
    "    def __init__(self, name):\n",
    "        self.name = name\n",
    "        \n",
    "    def fget(self):\n",
    "        return '[{0}]'.format(self.name)\n",
    "    \n",
    "    def fset(self, val):\n",
    "        self.name = val.upper()\n",
    "        \n",
    "    def fdel(self):\n",
    "        self.name = None;\n",
    "        \n",
    "    name = property(fget,fset,fdel,'对name属性操作');\n",
    "    \n",
    "s1 = Student('mick')\n",
    "s2 = Student('jone')\n",
    "# print(s1.name, s2.name)"
   ]
  },
  {
   "cell_type": "code",
   "execution_count": 1,
   "metadata": {},
   "outputs": [
    {
     "name": "stdout",
     "output_type": "stream",
     "text": [
      "********** __init__ **********\n",
      "初始化一个Student对象\n",
      "********** __call__ **********\n",
      "对象被当成函数调用了\n",
      "********** __str__ **********\n",
      "这是一个对象字符串\n",
      "None\n",
      "********** __setattr__ **********\n",
      "正在将属性'name'的值设为\"zgc\"\n",
      "zgc\n",
      "********** __init__ **********\n",
      "初始化一个Student对象\n",
      "********** __init__ **********\n",
      "初始化一个Student对象\n",
      "83637752 83637584\n",
      "********** __gt__ **********\n",
      "<class '__main__.Student'> > <method-wrapper '__repr__' of Student object at 0x0000000004FC35F8>\n",
      "False\n"
     ]
    }
   ],
   "source": [
    "class Student():\n",
    "    \n",
    "    name = None\n",
    "    def __init__(self):\n",
    "        '''\n",
    "        当对象初始化时触发该方法\n",
    "        '''\n",
    "        print('*'*10, '__init__','*'*10)\n",
    "        print('初始化一个Student对象')\n",
    "        \n",
    "    #若定义了__new__方法，则__call__方法无效\n",
    "    def __call__(self):\n",
    "        '''\n",
    "        当实例对象被当成函数调用时触发该方法\n",
    "        '''\n",
    "        print('*'*10, '__call__','*'*10)\n",
    "        print('对象被当成函数调用了')\n",
    "        \n",
    "    #__str__必须返回一个字符串\n",
    "    def __str__(self):\n",
    "        '''\n",
    "        当实例对象被当成字符串打印时触发\n",
    "        '''\n",
    "        print('*'*10, '__str__','*'*10)\n",
    "        print('这是一个对象字符串')\n",
    "        return 'None'\n",
    "    \n",
    "    def __getattr__(self,name):\n",
    "        '''\n",
    "        当获取的属性找不到时，触发该方法\n",
    "        '''\n",
    "        print('*'*10, '__getattr__','*'*10)\n",
    "        print('抱歉，{1}没有\\'{0}\\'属性'.format(name,self.__class__.__name__))\n",
    "    \n",
    "    def __setattr__(self, name, val):\n",
    "        '''\n",
    "        当设置对象的属性时触发该方法\n",
    "        '''\n",
    "        print('*'*10, '__setattr__','*'*10)\n",
    "        print('正在将属性\\'{0}\\'的值设为\"{1}\"'.format(name,val))\n",
    "        #设置值时必须通过父类来设置，不然会陷入死循环中\n",
    "        super().__setattr__(name, val)\n",
    "        \n",
    "    def __gt__(self, obj):\n",
    "        '''\n",
    "        当对象被作为算术比较是出触发该方法\n",
    "        '''\n",
    "        print('*'*10, '__gt__','*'*10)\n",
    "        print('{0} > {1}'.format(self.__class__, obj.__repr__))\n",
    "        return id(self) > id(obj)\n",
    "        \n",
    "s = Student();\n",
    "s()\n",
    "print(s)\n",
    "s.name\n",
    "s.name = 'zgc'\n",
    "print(s.name)\n",
    "\n",
    "s1 = Student();\n",
    "s2 = Student();\n",
    "print(id(s1),id(s2))\n",
    "print(s2 > s1)"
   ]
  },
  {
   "cell_type": "code",
   "execution_count": 20,
   "metadata": {},
   "outputs": [
    {
     "name": "stdout",
     "output_type": "stream",
     "text": [
      "对象说了一句话\n",
      "类说了一句话\n",
      "类说了一句话\n",
      "静态方法\n",
      "静态方法\n"
     ]
    }
   ],
   "source": [
    "class Student():\n",
    "    def __init__(self):\n",
    "        pass\n",
    "    \n",
    "    def say(self):\n",
    "        #print(self.__class__.__name__)\n",
    "        print('对象说了一句话')\n",
    "        \n",
    "    @classmethod\n",
    "    def class_say(cls):\n",
    "        #print(dir(cls))\n",
    "        print('类说了一句话')\n",
    "        \n",
    "    @staticmethod\n",
    "    def static_say():\n",
    "        print('静态方法')\n",
    "        \n",
    "\n",
    "s = Student();\n",
    "s.say()\n",
    "\n",
    "Student.class_say()\n",
    "s.class_say()\n",
    "\n",
    "Student.static_say()\n",
    "s.static_say()"
   ]
  },
  {
   "cell_type": "code",
   "execution_count": 28,
   "metadata": {},
   "outputs": [
    {
     "name": "stdout",
     "output_type": "stream",
     "text": [
      "<__main__.Student object at 0x000000000530C518>\n"
     ]
    },
    {
     "ename": "AttributeError",
     "evalue": "type object 'Student' has no attribute '__main__'",
     "output_type": "error",
     "traceback": [
      "\u001b[1;31m---------------------------------------------------------------------------\u001b[0m",
      "\u001b[1;31mAttributeError\u001b[0m                            Traceback (most recent call last)",
      "\u001b[1;32m<ipython-input-28-9c6cf2c7a388>\u001b[0m in \u001b[0;36m<module>\u001b[1;34m\u001b[0m\n\u001b[0;32m      7\u001b[0m         \u001b[0mprint\u001b[0m\u001b[1;33m(\u001b[0m\u001b[0mself\u001b[0m\u001b[1;33m.\u001b[0m\u001b[0m__class__\u001b[0m\u001b[1;33m.\u001b[0m\u001b[0m__main__\u001b[0m\u001b[1;33m)\u001b[0m\u001b[1;33m\u001b[0m\u001b[1;33m\u001b[0m\u001b[0m\n\u001b[0;32m      8\u001b[0m \u001b[1;33m\u001b[0m\u001b[0m\n\u001b[1;32m----> 9\u001b[1;33m \u001b[0ms1\u001b[0m \u001b[1;33m=\u001b[0m \u001b[0mStudent\u001b[0m\u001b[1;33m(\u001b[0m\u001b[1;33m)\u001b[0m\u001b[1;33m\u001b[0m\u001b[1;33m\u001b[0m\u001b[0m\n\u001b[0m\u001b[0;32m     10\u001b[0m \u001b[0ms2\u001b[0m \u001b[1;33m=\u001b[0m \u001b[0mStudent\u001b[0m\u001b[1;33m(\u001b[0m\u001b[1;33m)\u001b[0m\u001b[1;33m\u001b[0m\u001b[1;33m\u001b[0m\u001b[0m\n\u001b[0;32m     11\u001b[0m \u001b[1;33m\u001b[0m\u001b[0m\n",
      "\u001b[1;32m<ipython-input-28-9c6cf2c7a388>\u001b[0m in \u001b[0;36m__init__\u001b[1;34m(self)\u001b[0m\n\u001b[0;32m      5\u001b[0m         \u001b[0mself\u001b[0m\u001b[1;33m.\u001b[0m\u001b[0mcount\u001b[0m \u001b[1;33m+=\u001b[0m \u001b[1;36m1\u001b[0m\u001b[1;33m;\u001b[0m\u001b[1;33m\u001b[0m\u001b[1;33m\u001b[0m\u001b[0m\n\u001b[0;32m      6\u001b[0m         \u001b[0mprint\u001b[0m\u001b[1;33m(\u001b[0m\u001b[0mself\u001b[0m\u001b[1;33m)\u001b[0m\u001b[1;33m\u001b[0m\u001b[1;33m\u001b[0m\u001b[0m\n\u001b[1;32m----> 7\u001b[1;33m         \u001b[0mprint\u001b[0m\u001b[1;33m(\u001b[0m\u001b[0mself\u001b[0m\u001b[1;33m.\u001b[0m\u001b[0m__class__\u001b[0m\u001b[1;33m.\u001b[0m\u001b[0m__main__\u001b[0m\u001b[1;33m)\u001b[0m\u001b[1;33m\u001b[0m\u001b[1;33m\u001b[0m\u001b[0m\n\u001b[0m\u001b[0;32m      8\u001b[0m \u001b[1;33m\u001b[0m\u001b[0m\n\u001b[0;32m      9\u001b[0m \u001b[0ms1\u001b[0m \u001b[1;33m=\u001b[0m \u001b[0mStudent\u001b[0m\u001b[1;33m(\u001b[0m\u001b[1;33m)\u001b[0m\u001b[1;33m\u001b[0m\u001b[1;33m\u001b[0m\u001b[0m\n",
      "\u001b[1;31mAttributeError\u001b[0m: type object 'Student' has no attribute '__main__'"
     ]
    }
   ],
   "source": [
    "class Student():\n",
    "    count = 0\n",
    "    \n",
    "    def __init__(self):\n",
    "        self.count += 1;\n",
    "        print(self)\n",
    "        print(self.__class__)\n",
    "        \n",
    "s1 = Student()\n",
    "s2 = Student()\n",
    "\n",
    "print(s1.count,id(s1.count))\n",
    "\n",
    "print(s1.count,id(s2.count))\n",
    "\n",
    "print(Student.count,id(Student.count))"
   ]
  }
 ],
 "metadata": {
  "kernelspec": {
   "display_name": "Python 3",
   "language": "python",
   "name": "python3"
  },
  "language_info": {
   "codemirror_mode": {
    "name": "ipython",
    "version": 3
   },
   "file_extension": ".py",
   "mimetype": "text/x-python",
   "name": "python",
   "nbconvert_exporter": "python",
   "pygments_lexer": "ipython3",
   "version": "3.7.1"
  }
 },
 "nbformat": 4,
 "nbformat_minor": 2
}
