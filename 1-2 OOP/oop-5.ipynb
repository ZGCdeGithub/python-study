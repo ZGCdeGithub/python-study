{
 "cells": [
  {
   "cell_type": "code",
   "execution_count": 5,
   "metadata": {},
   "outputs": [
    {
     "name": "stdout",
     "output_type": "stream",
     "text": [
      "Name: No name\n",
      "name of an animal\n",
      "Age: 3\n"
     ]
    }
   ],
   "source": [
    "class Animal(object):\n",
    "    def __init__(self, name, age):\n",
    "        self._name = name\n",
    "        self._age = age\n",
    "        self._color = 'Black'\n",
    "\n",
    "    def get_name(self):\n",
    "        return self._name\n",
    "\n",
    "    def set_name(self, value):\n",
    "        self._name = 'No name'\n",
    "\n",
    "    name = property(fget=get_name, fset=set_name, fdel=None, doc='name of an animal')\n",
    "\n",
    "    def get_age(self):\n",
    "        return self._age\n",
    "\n",
    "    def set_age(self, value):\n",
    "        if value > 0 and value < 100:\n",
    "            self._age = value\n",
    "        else:\n",
    "            self._age = 0\n",
    "            # print 'invalid age value.'\n",
    "\n",
    "    age = property(fget=get_age, fset=set_age, fdel=None, doc='name of an animal')\n",
    "    \n",
    "\n",
    "a = Animal('black dog', 3)\n",
    "a.name = 'white dog'\n",
    "a.age = 3\n",
    "print('Name:', a.name)\n",
    "print(Animal.name.__doc__)\n",
    "print('Age:', a.age)"
   ]
  },
  {
   "cell_type": "markdown",
   "metadata": {},
   "source": [
    "##  抽象类"
   ]
  },
  {
   "cell_type": "code",
   "execution_count": 5,
   "metadata": {},
   "outputs": [
    {
     "name": "stdout",
     "output_type": "stream",
     "text": [
      "汪汪汪……\n"
     ]
    }
   ],
   "source": [
    "import abc\n",
    "class Person(metaclass=abc.ABCMeta):\n",
    "    \n",
    "    @abc.abstractmethod\n",
    "    def say(self):\n",
    "        pass\n",
    "    \n",
    "    @abc.abstractclassmethod\n",
    "    def hello():\n",
    "        pass\n",
    "    \n",
    "    @abc.abstractstaticmethod\n",
    "    def talk():\n",
    "        pass\n",
    "    \n",
    "    def bark():\n",
    "        print('汪汪汪……')\n",
    "    \n",
    "    \n",
    "class Student(Person):\n",
    "    def say(self):\n",
    "        pass\n",
    "    \n",
    "    def hello():\n",
    "        pass\n",
    "    \n",
    "    def talk():\n",
    "        pass\n",
    "\n",
    "s = Student()\n",
    "Student.bark()"
   ]
  }
 ],
 "metadata": {
  "kernelspec": {
   "display_name": "Python 3",
   "language": "python",
   "name": "python3"
  },
  "language_info": {
   "codemirror_mode": {
    "name": "ipython",
    "version": 3
   },
   "file_extension": ".py",
   "mimetype": "text/x-python",
   "name": "python",
   "nbconvert_exporter": "python",
   "pygments_lexer": "ipython3",
   "version": "3.7.1"
  }
 },
 "nbformat": 4,
 "nbformat_minor": 2
}
