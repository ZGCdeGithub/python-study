{
 "cells": [
  {
   "cell_type": "markdown",
   "metadata": {},
   "source": [
    "# OS\n",
    "  - 关于系统的操作，主要是文件操作\n",
    "  "
   ]
  },
  {
   "cell_type": "code",
   "execution_count": 2,
   "metadata": {},
   "outputs": [],
   "source": [
    "import os"
   ]
  },
  {
   "cell_type": "code",
   "execution_count": 12,
   "metadata": {},
   "outputs": [
    {
     "name": "stdout",
     "output_type": "stream",
     "text": [
      "D:\\\n"
     ]
    }
   ],
   "source": [
    "# getcwd 获取当前环境的目录\n",
    "\n",
    "pwd = os.getcwd()\n",
    "print(pwd)"
   ]
  },
  {
   "cell_type": "code",
   "execution_count": 9,
   "metadata": {},
   "outputs": [
    {
     "name": "stdout",
     "output_type": "stream",
     "text": [
      "D:\\jupyter_notebook\n",
      "D:\\\n"
     ]
    }
   ],
   "source": [
    "# chdir 改变当前的工作目录\n",
    "# 参数\n",
    "# path 要改变的目录,绝对或相对路径\n",
    "\n",
    "pwd = os.getcwd()\n",
    "print(pwd)\n",
    "\n",
    "os.chdir('../')\n",
    "print(os.getcwd())"
   ]
  },
  {
   "cell_type": "code",
   "execution_count": 3,
   "metadata": {},
   "outputs": [
    {
     "name": "stdout",
     "output_type": "stream",
     "text": [
      "D:\\jupyter_notebook\\variable\\3-0 usually module\n",
      "['.ipynb_checkpoints', 'calendar.ipynb', 'datetime.ipynb', 'os.ipynb', 'time.ipynb', 'timeit.ipynb']\n"
     ]
    }
   ],
   "source": [
    "# listdir 获取目录下所有的文件和目录，默认为当前目录\n",
    "# 参数\n",
    "# path 要列出的目录路径\n",
    "\n",
    "print(os.getcwd())\n",
    "l = os.listdir();\n",
    "print(l)"
   ]
  },
  {
   "cell_type": "code",
   "execution_count": 5,
   "metadata": {},
   "outputs": [
    {
     "name": "stdout",
     "output_type": "stream",
     "text": [
      "D:\\jupyter_notebook\\variable\\3-0 usually module\n",
      "[WinError 183] 当文件已存在时，无法创建该文件。: './test/test-1/test-1-1'\n"
     ]
    }
   ],
   "source": [
    "# makedirs 递归创建目录，若已存在，则无法创建\n",
    "print(os.getcwd())\n",
    "# os.chdir('../')\n",
    "try:\n",
    "    os.makedirs('./test/test-1/test-1-1')\n",
    "except Exception as e:\n",
    "    print(e)"
   ]
  },
  {
   "cell_type": "code",
   "execution_count": 4,
   "metadata": {},
   "outputs": [
    {
     "name": "stdout",
     "output_type": "stream",
     "text": [
      "0\n"
     ]
    }
   ],
   "source": [
    "# system 执行系统shell命令\n",
    "\n",
    "print(os.system('dir'))"
   ]
  },
  {
   "cell_type": "code",
   "execution_count": 6,
   "metadata": {},
   "outputs": [
    {
     "name": "stdout",
     "output_type": "stream",
     "text": [
      "D:\\ProgramData\\Anaconda3;D:\\ProgramData\\Anaconda3\\Library\\mingw-w64\\bin;D:\\ProgramData\\Anaconda3\\Library\\usr\\bin;D:\\ProgramData\\Anaconda3\\Library\\bin;D:\\ProgramData\\Anaconda3\\Scripts;D:\\Program Files\\VanDyke Software\\Clients\\;C:\\Windows\\system32;C:\\Windows;C:\\Windows\\System32\\Wbem;C:\\Windows\\System32\\WindowsPowerShell\\v1.0\\;C:\\Program Files (x86)\\NVIDIA Corporation\\PhysX\\Common;D:\\Program Files\\TortoiseSVN\\bin;D:\\phpStudy\\PHPTutorial\\tools\\composer;E:\\PS\\Adobe Photoshop CC (64 Bit)\\Adobe Photoshop CC (64 Bit)\\QTSystem\\;D:\\Program Files\\Git\\cmd;D:\\Users\\Administrator\\AppData\\Local\\Programs\\Python\\Python37\\Scripts\\;D:\\Users\\Administrator\\AppData\\Local\\Programs\\Python\\Python37\\\n"
     ]
    }
   ],
   "source": [
    "# getenv 获取系统指定的环境变量的值\n",
    "\n",
    "print(os.getenv('PATH'))"
   ]
  },
  {
   "cell_type": "code",
   "execution_count": 11,
   "metadata": {},
   "outputs": [],
   "source": [
    "# exit  退出当前程序\n",
    "# 格式 ：exit()\n",
    "# help(exit)"
   ]
  },
  {
   "cell_type": "markdown",
   "metadata": {},
   "source": [
    "# 属性-值"
   ]
  },
  {
   "cell_type": "code",
   "execution_count": 22,
   "metadata": {},
   "outputs": [
    {
     "name": "stdout",
     "output_type": "stream",
     "text": [
      "当前目录： D:\\jupyter_notebook\\variable\n",
      "curdir :  .\n",
      "pardir ： ..\n",
      "sep :  \\\n",
      "linesep ： \r\n",
      " <class 'str'>\n",
      "name :  nt\n"
     ]
    }
   ],
   "source": [
    "# os.chdir('../')\n",
    "print('当前目录：', os.getcwd());\n",
    "print('curdir : ', os.curdir)\n",
    "print('pardir ：', os.pardir)\n",
    "print('sep : ', os.sep)\n",
    "print('linesep ：', os.linesep,type(os.linesep))\n",
    "print('name : ', os.name)"
   ]
  },
  {
   "cell_type": "markdown",
   "metadata": {},
   "source": [
    "## os.path\n",
    "    - 关于路径操作的模块"
   ]
  },
  {
   "cell_type": "code",
   "execution_count": 3,
   "metadata": {},
   "outputs": [],
   "source": [
    "import os\n",
    "from os import path as pt"
   ]
  },
  {
   "cell_type": "code",
   "execution_count": 7,
   "metadata": {},
   "outputs": [
    {
     "name": "stdout",
     "output_type": "stream",
     "text": [
      "D:\\jupyter_notebook\\variable\\3-0 usually module\n",
      "D:\\jupyter_notebook\\variable\n",
      "D:\\jupyter_notebook\\variable\n"
     ]
    }
   ],
   "source": [
    "# abspath 将一个路径转换成绝对路径\n",
    "# 参数\n",
    "# path 一个相对路径,绝对路径转换后还是绝对路径\n",
    "print(pt.abspath(os.curdir))\n",
    "print(pt.abspath(os.pardir))\n",
    "print(pt.abspath(pt.abspath(os.pardir)))"
   ]
  },
  {
   "cell_type": "code",
   "execution_count": 13,
   "metadata": {},
   "outputs": [
    {
     "name": "stdout",
     "output_type": "stream",
     "text": [
      "D:\\jupyter_notebook\\variable\\3-0 usually module  --  3-0 usually module\n",
      "D:\\jupyter_notebook\\variable  --  variable\n"
     ]
    }
   ],
   "source": [
    "# basename 获取路径中的文件名部分\n",
    "# 参数\n",
    "# path 一个路径\n",
    "pwd = pt.abspath(os.curdir)\n",
    "pardir = pt.abspath(os.pardir)\n",
    "print(pwd, ' -- ', pt.basename(pwd))\n",
    "print(pardir, ' -- ', pt.basename(pardir))"
   ]
  },
  {
   "cell_type": "code",
   "execution_count": 25,
   "metadata": {},
   "outputs": [
    {
     "name": "stdout",
     "output_type": "stream",
     "text": [
      "D:\\jupyter_notebook\\variable\\3-0 usually module\n",
      "D:\\jupyter_notebook\\variable\n",
      "D:\\jupyter_notebook\\variable\\test\\123.txt\n"
     ]
    }
   ],
   "source": [
    "# join 将多个路径合成一个新的路径\n",
    "# 参数\n",
    "# path1 \n",
    "# path2\n",
    "#...\n",
    "pwd = pt.abspath(os.curdir)\n",
    "pardir = pt.abspath(os.pardir)\n",
    "print(pwd)\n",
    "print(pardir)\n",
    "\n",
    "p1 = 'D:\\\\jupyter_notebook\\\\variable';\n",
    "p2 = 'test\\\\123.txt';\n",
    "\n",
    "p1 = pt.join(p1,p2)\n",
    "print(p1)"
   ]
  },
  {
   "cell_type": "code",
   "execution_count": 33,
   "metadata": {},
   "outputs": [
    {
     "name": "stdout",
     "output_type": "stream",
     "text": [
      "D:\\jupyter_notebook\\variable\\3-0 usually module\\test\\123.html\n",
      "('D:\\\\jupyter_notebook\\\\variable\\\\3-0 usually module\\\\test', '123.html')\n"
     ]
    }
   ],
   "source": [
    "# split 拆分文件路径\n",
    "\n",
    "p1 = pt.join(os.getcwd(),'test\\\\123.html')\n",
    "print(p1)\n",
    "print(pt.split(p1))"
   ]
  },
  {
   "cell_type": "code",
   "execution_count": 49,
   "metadata": {},
   "outputs": [
    {
     "name": "stdout",
     "output_type": "stream",
     "text": [
      "D:\\jupyter_notebook\\variable\\3-0 usually module  ---  True\n",
      "D:\\jupyter_notebook\\variable\\3-0 usually module\\12  --  False\n"
     ]
    }
   ],
   "source": [
    "# isdir 检测一个字符串是否是目录,若目录不存在也会返回false\n",
    "# 参数\n",
    "# path 路径\n",
    "\n",
    "p = os.getcwd()\n",
    "print(p, ' --- ', pt.isdir(p))\n",
    "p1 = 'D:\\\\jupyter_notebook\\\\variable\\\\3-0 usually module\\\\12'\n",
    "print(p1, ' -- ', pt.isdir(p1))"
   ]
  },
  {
   "cell_type": "code",
   "execution_count": 53,
   "metadata": {},
   "outputs": [
    {
     "name": "stdout",
     "output_type": "stream",
     "text": [
      "D:\\jupyter_notebook\\variable\\3-0 usually module\n",
      "True\n",
      "D:\\jupyter_notebook\\variable\\3-0 usually module\\os.ipynb\n",
      "True\n"
     ]
    }
   ],
   "source": [
    "# exists 检测文件或目录是否存在\n",
    "# 参数\n",
    "# path\n",
    "\n",
    "pwd = os.getcwd()\n",
    "print(pwd)\n",
    "print(pt.exists(pwd))\n",
    "p1 = pt.join(pwd,'os.ipynb')\n",
    "print(p1)\n",
    "print(pt.exists(p1))"
   ]
  }
 ],
 "metadata": {
  "kernelspec": {
   "display_name": "Python 3",
   "language": "python",
   "name": "python3"
  },
  "language_info": {
   "codemirror_mode": {
    "name": "ipython",
    "version": 3
   },
   "file_extension": ".py",
   "mimetype": "text/x-python",
   "name": "python",
   "nbconvert_exporter": "python",
   "pygments_lexer": "ipython3",
   "version": "3.7.1"
  }
 },
 "nbformat": 4,
 "nbformat_minor": 2
}
