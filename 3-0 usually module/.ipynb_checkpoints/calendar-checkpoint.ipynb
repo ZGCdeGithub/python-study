{
 "cells": [
  {
   "cell_type": "markdown",
   "metadata": {},
   "source": [
    "# calendar\n",
    " - python中的模块\n",
    " - 所有的功能实现的是日历的功能"
   ]
  },
  {
   "cell_type": "code",
   "execution_count": 2,
   "metadata": {},
   "outputs": [],
   "source": [
    "#使用前先导入模块\n",
    "import calendar"
   ]
  },
  {
   "cell_type": "code",
   "execution_count": 25,
   "metadata": {
    "collapsed": true
   },
   "outputs": [
    {
     "name": "stdout",
     "output_type": "stream",
     "text": [
      "<class 'str'>\n",
      "                                                           2018\n",
      "\n",
      "          January                                        February                                        March\n",
      "Mon Tue Wed Thu Fri Sat Sun                    Mon Tue Wed Thu Fri Sat Sun                    Mon Tue Wed Thu Fri Sat Sun\n",
      "  1   2   3   4   5   6   7                                  1   2   3   4                                  1   2   3   4\n",
      "  8   9  10  11  12  13  14                      5   6   7   8   9  10  11                      5   6   7   8   9  10  11\n",
      " 15  16  17  18  19  20  21                     12  13  14  15  16  17  18                     12  13  14  15  16  17  18\n",
      " 22  23  24  25  26  27  28                     19  20  21  22  23  24  25                     19  20  21  22  23  24  25\n",
      " 29  30  31                                     26  27  28                                     26  27  28  29  30  31\n",
      "\n",
      "           April                                           May                                            June\n",
      "Mon Tue Wed Thu Fri Sat Sun                    Mon Tue Wed Thu Fri Sat Sun                    Mon Tue Wed Thu Fri Sat Sun\n",
      "                          1                          1   2   3   4   5   6                                      1   2   3\n",
      "  2   3   4   5   6   7   8                      7   8   9  10  11  12  13                      4   5   6   7   8   9  10\n",
      "  9  10  11  12  13  14  15                     14  15  16  17  18  19  20                     11  12  13  14  15  16  17\n",
      " 16  17  18  19  20  21  22                     21  22  23  24  25  26  27                     18  19  20  21  22  23  24\n",
      " 23  24  25  26  27  28  29                     28  29  30  31                                 25  26  27  28  29  30\n",
      " 30\n",
      "\n",
      "            July                                          August                                       September\n",
      "Mon Tue Wed Thu Fri Sat Sun                    Mon Tue Wed Thu Fri Sat Sun                    Mon Tue Wed Thu Fri Sat Sun\n",
      "                          1                              1   2   3   4   5                                          1   2\n",
      "  2   3   4   5   6   7   8                      6   7   8   9  10  11  12                      3   4   5   6   7   8   9\n",
      "  9  10  11  12  13  14  15                     13  14  15  16  17  18  19                     10  11  12  13  14  15  16\n",
      " 16  17  18  19  20  21  22                     20  21  22  23  24  25  26                     17  18  19  20  21  22  23\n",
      " 23  24  25  26  27  28  29                     27  28  29  30  31                             24  25  26  27  28  29  30\n",
      " 30  31\n",
      "\n",
      "          October                                        November                                       December\n",
      "Mon Tue Wed Thu Fri Sat Sun                    Mon Tue Wed Thu Fri Sat Sun                    Mon Tue Wed Thu Fri Sat Sun\n",
      "  1   2   3   4   5   6   7                                  1   2   3   4                                          1   2\n",
      "  8   9  10  11  12  13  14                      5   6   7   8   9  10  11                      3   4   5   6   7   8   9\n",
      " 15  16  17  18  19  20  21                     12  13  14  15  16  17  18                     10  11  12  13  14  15  16\n",
      " 22  23  24  25  26  27  28                     19  20  21  22  23  24  25                     17  18  19  20  21  22  23\n",
      " 29  30  31                                     26  27  28  29  30                             24  25  26  27  28  29  30\n",
      "                                                                                               31\n",
      "\n"
     ]
    }
   ],
   "source": [
    "# calendar  获取一年的日历字符串\n",
    "# 参数\n",
    "# year 要输出的日历的年数\n",
    "# w = 每个日期之间的间隔字符数\n",
    "# l = 每周所占用的行数\n",
    "# c = 每个月之间的间隔字符数\n",
    "\n",
    "cal = calendar.calendar(2018,w=3, l=1, c=20)\n",
    "print(type(cal))\n",
    "print(cal)"
   ]
  },
  {
   "cell_type": "code",
   "execution_count": 39,
   "metadata": {},
   "outputs": [
    {
     "name": "stdout",
     "output_type": "stream",
     "text": [
      "[2000, 2001, 2002, 2003, 2004, 2005, 2006, 2007, 2008, 2009, 2010, 2011, 2012, 2013, 2014]\n",
      "2000  --  True\n",
      "2001  --  False\n",
      "2002  --  False\n",
      "2003  --  False\n",
      "2004  --  True\n",
      "2005  --  False\n",
      "2006  --  False\n",
      "2007  --  False\n",
      "2008  --  True\n",
      "2009  --  False\n",
      "2010  --  False\n",
      "2011  --  False\n",
      "2012  --  True\n",
      "2013  --  False\n",
      "2014  --  False\n"
     ]
    }
   ],
   "source": [
    "# isleap 判断某一年是否是闰年\n",
    "# 参数\n",
    "# year 要判断的年份\n",
    "l = list(range(2000, 2015))\n",
    "print(l)\n",
    "for v in l:\n",
    "    print(v, ' -- ', calendar.isleap(v))"
   ]
  },
  {
   "cell_type": "code",
   "execution_count": 43,
   "metadata": {},
   "outputs": [
    {
     "name": "stdout",
     "output_type": "stream",
     "text": [
      "3\n"
     ]
    }
   ],
   "source": [
    "# leapdays 获取一个年份范围内闰年的个数\n",
    "# 参数\n",
    "# startyear 起始年份\n",
    "# endyear 结束年份   (不包含结束年份)\n",
    "print(calendar.leapdays(2000,2012))"
   ]
  },
  {
   "cell_type": "code",
   "execution_count": 51,
   "metadata": {},
   "outputs": [
    {
     "name": "stdout",
     "output_type": "stream",
     "text": [
      "   December 2018\n",
      "Mo Tu We Th Fr Sa Su\n",
      "                1  2\n",
      " 3  4  5  6  7  8  9\n",
      "10 11 12 13 14 15 16\n",
      "17 18 19 20 21 22 23\n",
      "24 25 26 27 28 29 30\n",
      "31\n",
      "\n"
     ]
    }
   ],
   "source": [
    "#month 获取某个月的日历字符串\n",
    "# 参数\n",
    "# year 指定的年份\n",
    "# month 指定的月份\n",
    "# w 日期之间的间隔数\n",
    "# l 每周占用的行数\n",
    "#help(calendar.month)\n",
    "print(calendar.month(2018,12))"
   ]
  },
  {
   "cell_type": "code",
   "execution_count": 56,
   "metadata": {},
   "outputs": [
    {
     "name": "stdout",
     "output_type": "stream",
     "text": [
      "(5, 31)\n"
     ]
    }
   ],
   "source": [
    "# monthrange 获取一个月是周几开始和总天数\n",
    "# 参数\n",
    "# year  指定的年份\n",
    "# month 指定的月份\n",
    "#return 返回的是一个元组（周几的标识(0-6),总天数）\n",
    "#help(calendar.monthrange)\n",
    "\n",
    "t = calendar.monthrange(2018,12)\n",
    "print(t)"
   ]
  },
  {
   "cell_type": "code",
   "execution_count": 59,
   "metadata": {},
   "outputs": [
    {
     "name": "stdout",
     "output_type": "stream",
     "text": [
      "[[0, 0, 0, 0, 0, 1, 2], [3, 4, 5, 6, 7, 8, 9], [10, 11, 12, 13, 14, 15, 16], [17, 18, 19, 20, 21, 22, 23], [24, 25, 26, 27, 28, 29, 30], [31, 0, 0, 0, 0, 0, 0]]\n"
     ]
    }
   ],
   "source": [
    "# monthcalendar 返回指定月份中每周的列表\n",
    "# 参数\n",
    "# year 指定的年份\n",
    "# month 指定的月份\n",
    "# return 二维列表，代表0-6(周一~周日)的日期。若是0则表示没有日期\n",
    "# help(calendar.monthcalendar)\n",
    "\n",
    "print(calendar.monthcalendar(2018,12))"
   ]
  },
  {
   "cell_type": "code",
   "execution_count": 72,
   "metadata": {
    "collapsed": true
   },
   "outputs": [
    {
     "name": "stdout",
     "output_type": "stream",
     "text": [
      "                                                                   2018\n",
      "\n",
      "\n",
      "\n",
      "          January                              February                              March                                April\n",
      "\n",
      "Mon Tue Wed Thu Fri Sat Sun          Mon Tue Wed Thu Fri Sat Sun          Mon Tue Wed Thu Fri Sat Sun          Mon Tue Wed Thu Fri Sat Sun\n",
      "\n",
      "  1   2   3   4   5   6   7                        1   2   3   4                        1   2   3   4                                    1\n",
      "\n",
      "  8   9  10  11  12  13  14            5   6   7   8   9  10  11            5   6   7   8   9  10  11            2   3   4   5   6   7   8\n",
      "\n",
      " 15  16  17  18  19  20  21           12  13  14  15  16  17  18           12  13  14  15  16  17  18            9  10  11  12  13  14  15\n",
      "\n",
      " 22  23  24  25  26  27  28           19  20  21  22  23  24  25           19  20  21  22  23  24  25           16  17  18  19  20  21  22\n",
      "\n",
      " 29  30  31                           26  27  28                           26  27  28  29  30  31               23  24  25  26  27  28  29\n",
      "\n",
      "                                                                                                                30\n",
      "\n",
      "\n",
      "\n",
      "            May                                  June                                 July                                August\n",
      "\n",
      "Mon Tue Wed Thu Fri Sat Sun          Mon Tue Wed Thu Fri Sat Sun          Mon Tue Wed Thu Fri Sat Sun          Mon Tue Wed Thu Fri Sat Sun\n",
      "\n",
      "      1   2   3   4   5   6                            1   2   3                                    1                    1   2   3   4   5\n",
      "\n",
      "  7   8   9  10  11  12  13            4   5   6   7   8   9  10            2   3   4   5   6   7   8            6   7   8   9  10  11  12\n",
      "\n",
      " 14  15  16  17  18  19  20           11  12  13  14  15  16  17            9  10  11  12  13  14  15           13  14  15  16  17  18  19\n",
      "\n",
      " 21  22  23  24  25  26  27           18  19  20  21  22  23  24           16  17  18  19  20  21  22           20  21  22  23  24  25  26\n",
      "\n",
      " 28  29  30  31                       25  26  27  28  29  30               23  24  25  26  27  28  29           27  28  29  30  31\n",
      "\n",
      "                                                                           30  31\n",
      "\n",
      "\n",
      "\n",
      "         September                             October                              November                             December\n",
      "\n",
      "Mon Tue Wed Thu Fri Sat Sun          Mon Tue Wed Thu Fri Sat Sun          Mon Tue Wed Thu Fri Sat Sun          Mon Tue Wed Thu Fri Sat Sun\n",
      "\n",
      "                      1   2            1   2   3   4   5   6   7                        1   2   3   4                                1   2\n",
      "\n",
      "  3   4   5   6   7   8   9            8   9  10  11  12  13  14            5   6   7   8   9  10  11            3   4   5   6   7   8   9\n",
      "\n",
      " 10  11  12  13  14  15  16           15  16  17  18  19  20  21           12  13  14  15  16  17  18           10  11  12  13  14  15  16\n",
      "\n",
      " 17  18  19  20  21  22  23           22  23  24  25  26  27  28           19  20  21  22  23  24  25           17  18  19  20  21  22  23\n",
      "\n",
      " 24  25  26  27  28  29  30           29  30  31                           26  27  28  29  30                   24  25  26  27  28  29  30\n",
      "\n",
      "                                                                                                                31\n",
      "\n"
     ]
    }
   ],
   "source": [
    "# prcal 直接打印出指定年份的日历字符串\n",
    "# 参数\n",
    "# year 指定的年份\n",
    "# w 日期之间的字符间隔\n",
    "# l 每周占的行数\n",
    "# c 月和月之间的间隔字符数\n",
    "# m 每一行排列几个月份\n",
    "\n",
    "# help(calendar.prcal)\n",
    "\n",
    "calendar.prcal(2018,w=3,l=2, c=10, m=4)"
   ]
  },
  {
   "cell_type": "code",
   "execution_count": 76,
   "metadata": {},
   "outputs": [
    {
     "name": "stdout",
     "output_type": "stream",
     "text": [
      "              December 2018\n",
      "\n",
      " Mon   Tue   Wed   Thu   Fri   Sat   Sun\n",
      "\n",
      "                                 1     2\n",
      "\n",
      "   3     4     5     6     7     8     9\n",
      "\n",
      "  10    11    12    13    14    15    16\n",
      "\n",
      "  17    18    19    20    21    22    23\n",
      "\n",
      "  24    25    26    27    28    29    30\n",
      "\n",
      "  31\n",
      "\n"
     ]
    }
   ],
   "source": [
    "# prmonth 直接打印出指定月份的日历字符串\n",
    "# 参数\n",
    "# year\n",
    "# month\n",
    "# w 日期之间的字符间隔数\n",
    "# l 每周占的行数\n",
    "# help(calendar.prmonth)\n",
    "\n",
    "calendar.prmonth(2018, 12, w=5, l=2)"
   ]
  },
  {
   "cell_type": "code",
   "execution_count": 81,
   "metadata": {},
   "outputs": [
    {
     "name": "stdout",
     "output_type": "stream",
     "text": [
      "5\n"
     ]
    }
   ],
   "source": [
    "# weekday 获取指定日期是一周的地几天\n",
    "# 参数\n",
    "# year\n",
    "# month\n",
    "# day\n",
    "# return 返回0-6(周一 ~  周日)\n",
    "# help(calendar.weekday)\n",
    "\n",
    "print(calendar.weekday(2018, 12, 29))"
   ]
  }
 ],
 "metadata": {
  "kernelspec": {
   "display_name": "Python 3",
   "language": "python",
   "name": "python3"
  },
  "language_info": {
   "codemirror_mode": {
    "name": "ipython",
    "version": 3
   },
   "file_extension": ".py",
   "mimetype": "text/x-python",
   "name": "python",
   "nbconvert_exporter": "python",
   "pygments_lexer": "ipython3",
   "version": "3.7.1"
  }
 },
 "nbformat": 4,
 "nbformat_minor": 2
}
