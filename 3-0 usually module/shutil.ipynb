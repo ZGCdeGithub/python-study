{
 "cells": [
  {
   "cell_type": "markdown",
   "metadata": {},
   "source": [
    "# shutil\n",
    "    - 主要用于高级文件操作"
   ]
  },
  {
   "cell_type": "code",
   "execution_count": 1,
   "metadata": {},
   "outputs": [],
   "source": [
    "import shutil"
   ]
  },
  {
   "cell_type": "code",
   "execution_count": 17,
   "metadata": {},
   "outputs": [
    {
     "name": "stdout",
     "output_type": "stream",
     "text": [
      "D:\\jupyter_notebook\\variable\\3-0 usually module\\new_shutil.txt\n"
     ]
    }
   ],
   "source": [
    "# copy 对文件进行复制操作\n",
    "# 参数\n",
    "# sourse  文件源路径\n",
    "# destination 目标路径\n",
    "# return 返回目标路径\n",
    "import os\n",
    "\n",
    "p = os.path.join(os.getcwd(),'shutil.ipynb')\n",
    "if os.path.exists(p):\n",
    "    res = shutil.copy(p,os.path.join(os.getcwd(),'new_shutil.txt'))\n",
    "    print(res)\n",
    "else:\n",
    "    print('文件不存在')"
   ]
  },
  {
   "cell_type": "code",
   "execution_count": 18,
   "metadata": {},
   "outputs": [
    {
     "name": "stdout",
     "output_type": "stream",
     "text": [
      "D:\\jupyter_notebook\\variable\\3-0 usually module\\new_shutil2.txt\n"
     ]
    }
   ],
   "source": [
    "# copy2 对文件进行复制（与copy不同的是copy2会将文件元数据一起复制）\n",
    "# 参数\n",
    "# source 文件源路径\n",
    "# destination 目标路径\n",
    "# return 返回目标路径\n",
    "\n",
    "p = os.path.join(os.getcwd(),'shutil.ipynb')\n",
    "try:\n",
    "    res = shutil.copy2(p, os.path.join(os.getcwd(), 'new_shutil2.txt'))\n",
    "    print(res)\n",
    "except Exception as e:\n",
    "    print(e)"
   ]
  },
  {
   "cell_type": "code",
   "execution_count": 19,
   "metadata": {},
   "outputs": [
    {
     "name": "stdout",
     "output_type": "stream",
     "text": [
      "D:\\jupyter_notebook\\variable\\3-0 usually module\\new_shutil.txt\n",
      "D:\\jupyter_notebook\\variable\\3-0 usually module\\test.txt\n"
     ]
    }
   ],
   "source": [
    "# copyfile 将文件内容复制到另一个文件中去,若目标文件不存在，则创建\n",
    "# 参数\n",
    "# source 文件源路径\n",
    "# destination 目标路径\n",
    "# return 返回目标路径\n",
    "p = os.path.join(os.getcwd(),'new_shutil.txt');\n",
    "print(p)\n",
    "\n",
    "res = shutil.copyfile(p, os.path.join(os.getcwd(),'test.txt'))\n",
    "print(res)"
   ]
  },
  {
   "cell_type": "code",
   "execution_count": 25,
   "metadata": {},
   "outputs": [
    {
     "name": "stdout",
     "output_type": "stream",
     "text": [
      "D:\\jupyter_notebook\\variable\\3-0 usually module\\test\n",
      "要操作的文件不存在\n"
     ]
    }
   ],
   "source": [
    "#move 移动文件/文件夹\n",
    "# source 源文件/文件夹\n",
    "# destination 目标路径\n",
    "\n",
    "p = os.path.join(os.getcwd(),'test')\n",
    "print(p)\n",
    "if os.path.exists(p):\n",
    "    print('开始移动*****')\n",
    "    res = shutil.move(p, os.path.join(os.getcwd(), 'new_test'))\n",
    "    print(res)\n",
    "else:\n",
    "    print('要操作的文件不存在')"
   ]
  },
  {
   "cell_type": "code",
   "execution_count": 27,
   "metadata": {},
   "outputs": [
    {
     "name": "stdout",
     "output_type": "stream",
     "text": [
      "D:\\jupyter_notebook\\variable\\3-0 usually module\\new_test\n",
      "error: [Errno 13] Permission denied: 'D:\\\\jupyter_notebook\\\\variable\\\\3-0 usually module\\\\new_test'\n"
     ]
    }
   ],
   "source": [
    "p = os.path.join(os.getcwd(), 'new_test')\n",
    "print(p)\n",
    "\n",
    "try:\n",
    "    shutil.copy(p, os.path.join(os.getcwd(),'test_2'))\n",
    "except Exception as e:\n",
    "    print('error:', e)"
   ]
  }
 ],
 "metadata": {
  "kernelspec": {
   "display_name": "Python 3",
   "language": "python",
   "name": "python3"
  },
  "language_info": {
   "codemirror_mode": {
    "name": "ipython",
    "version": 3
   },
   "file_extension": ".py",
   "mimetype": "text/x-python",
   "name": "python",
   "nbconvert_exporter": "python",
   "pygments_lexer": "ipython3",
   "version": "3.7.1"
  }
 },
 "nbformat": 4,
 "nbformat_minor": 2
}
