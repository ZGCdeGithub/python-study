{
 "cells": [
  {
   "cell_type": "markdown",
   "metadata": {},
   "source": [
    "# time\n",
    "  - 时间操作模块\n",
    "  "
   ]
  },
  {
   "cell_type": "code",
   "execution_count": 1,
   "metadata": {},
   "outputs": [],
   "source": [
    "import time"
   ]
  },
  {
   "cell_type": "markdown",
   "metadata": {},
   "source": [
    "## time模块的属性\n",
    "    - timezone : 当前时区和UTC时间相差的秒数，在没有夏令时的情况下的间隔,东八区的是 -28800\n",
    "    - altzone  : 当前时区和UTC时间相差的秒数，在有夏令时的情况下\n",
    "    - daylight : 当前是否是夏令时的状态"
   ]
  },
  {
   "cell_type": "code",
   "execution_count": 7,
   "metadata": {},
   "outputs": [
    {
     "name": "stdout",
     "output_type": "stream",
     "text": [
      "-28800\n",
      "-32400\n",
      "0\n"
     ]
    }
   ],
   "source": [
    "print(time.timezone)\n",
    "print(time.altzone)\n",
    "print(time.daylight)"
   ]
  },
  {
   "cell_type": "code",
   "execution_count": 12,
   "metadata": {
    "scrolled": true
   },
   "outputs": [
    {
     "name": "stdout",
     "output_type": "stream",
     "text": [
      "1546061715.2364023\n"
     ]
    }
   ],
   "source": [
    "# time 获取当前时间戳\n",
    "# return 返回的是一个浮点数的时间戳\n",
    "# help(time.time)\n",
    "print(time.time())"
   ]
  },
  {
   "cell_type": "code",
   "execution_count": 31,
   "metadata": {},
   "outputs": [
    {
     "name": "stdout",
     "output_type": "stream",
     "text": [
      "年： 2018\n",
      "月： 12\n",
      "日： 29\n",
      "小时： 13\n",
      "分钟： 47\n",
      "秒： 31\n",
      "周几： 5\n",
      "一年中的第()天: 363\n",
      "是否是夏令时： 0\n"
     ]
    }
   ],
   "source": [
    "# localtime\n",
    "# \n",
    "\n",
    "#help(time.localtime)\n",
    "t = time.localtime()\n",
    "print('年：', t.tm_year)\n",
    "print('月：', t.tm_mon)\n",
    "print('日：', t.tm_mday)\n",
    "print('小时：', t.tm_hour)\n",
    "print('分钟：', t.tm_min)\n",
    "print('秒：', t.tm_sec)\n",
    "print('周几：', t.tm_wday)\n",
    "print('一年中的第()天:', t.tm_yday)\n",
    "print('是否是夏令时：', t.tm_isdst)"
   ]
  },
  {
   "cell_type": "code",
   "execution_count": 41,
   "metadata": {},
   "outputs": [
    {
     "name": "stdout",
     "output_type": "stream",
     "text": [
      "Sat Dec 29 13:58:27 2018\n",
      "Mon Dec  1 23:00:00 2018\n"
     ]
    }
   ],
   "source": [
    "# asctime 接收时间元组，返回一个可读的字符串时间格式\n",
    "# 参数\n",
    "# (9) 9个元素的时间元组\n",
    "\n",
    "t = time.localtime()\n",
    "\n",
    "print(time.asctime(t))\n",
    "\n",
    "t1 = (2018,12,1,23,0,0,0,0,0)\n",
    "print(time.asctime(t1))"
   ]
  },
  {
   "cell_type": "code",
   "execution_count": 42,
   "metadata": {},
   "outputs": [
    {
     "name": "stdout",
     "output_type": "stream",
     "text": [
      "Sat Dec 29 13:58:41 2018\n"
     ]
    }
   ],
   "source": [
    "# ctime 获取当前的字符串时间格式\n",
    "\n",
    "print(time.ctime())"
   ]
  },
  {
   "cell_type": "code",
   "execution_count": 52,
   "metadata": {},
   "outputs": [
    {
     "name": "stdout",
     "output_type": "stream",
     "text": [
      "1546063313.5304024\n",
      "1546063313.0\n"
     ]
    }
   ],
   "source": [
    "# mktime 接收一个时间元组，返回一个对应的时间戳\n",
    "# 参数\n",
    "# (9) 9个元素的时间元组\n",
    "# return 返回一个浮点数时间戳，但是小数位永远是0\n",
    "\n",
    "t = time.localtime()\n",
    "print(time.time())\n",
    "print(time.mktime(t))"
   ]
  },
  {
   "cell_type": "code",
   "execution_count": 83,
   "metadata": {},
   "outputs": [
    {
     "name": "stdout",
     "output_type": "stream",
     "text": [
      "8331.316759997\n",
      "8331.316918032\n",
      "2.184014\n"
     ]
    },
    {
     "name": "stderr",
     "output_type": "stream",
     "text": [
      "D:\\ProgramData\\Anaconda3\\lib\\site-packages\\ipykernel_launcher.py:3: DeprecationWarning: time.clock has been deprecated in Python 3.3 and will be removed from Python 3.8: use time.perf_counter or time.process_time instead\n",
      "  This is separate from the ipykernel package so we can avoid doing imports until\n"
     ]
    }
   ],
   "source": [
    "# clock 获取cpu时间 (3.3开始弃用，使用perf_counter | process_time 代替)\n",
    "\n",
    "print(time.clock())\n",
    "\n",
    "print(time.perf_counter())\n",
    "print(time.process_time())"
   ]
  },
  {
   "cell_type": "code",
   "execution_count": 101,
   "metadata": {},
   "outputs": [
    {
     "name": "stderr",
     "output_type": "stream",
     "text": [
      "D:\\ProgramData\\Anaconda3\\lib\\site-packages\\ipykernel_launcher.py:13: DeprecationWarning: time.clock has been deprecated in Python 3.3 and will be removed from Python 3.8: use time.perf_counter or time.process_time instead\n",
      "  del sys.path[0]\n"
     ]
    },
    {
     "name": "stdout",
     "output_type": "stream",
     "text": [
      "1.999841965000087\n",
      "2.000154281000505\n",
      "2.5740165\n"
     ]
    },
    {
     "name": "stderr",
     "output_type": "stream",
     "text": [
      "D:\\ProgramData\\Anaconda3\\lib\\site-packages\\ipykernel_launcher.py:15: DeprecationWarning: time.clock has been deprecated in Python 3.3 and will be removed from Python 3.8: use time.perf_counter or time.process_time instead\n",
      "  from ipykernel import kernelapp as app\n"
     ]
    }
   ],
   "source": [
    "# sleep 使程序休眠指定的时间\n",
    "# 参数\n",
    "# second 休眠的秒数（可以是浮点数）\n",
    "\n",
    "# for i in range(10):\n",
    "#     print(i)\n",
    "#     time.sleep(1.5)\n",
    "\n",
    "def p_fun():\n",
    "    time.sleep(2)\n",
    "\n",
    "t0_1 = time.perf_counter()\n",
    "t0 = time.clock()\n",
    "p_fun()\n",
    "t1 = time.clock()\n",
    "t1_1 = time.perf_counter()\n",
    "print(t1-t0)\n",
    "print(t1_1 - t0_1)\n",
    "print(time.process_time())"
   ]
  },
  {
   "cell_type": "code",
   "execution_count": 128,
   "metadata": {},
   "outputs": [
    {
     "name": "stdout",
     "output_type": "stream",
     "text": [
      "2018-12-29 14:45:31\n",
      "%a :  Sat\n",
      "%A :  Saturday\n",
      "%b :  Dec\n",
      "%B :  December\n",
      "%c :  Sat Dec 29 14:45:31 2018\n",
      "%d :  29\n",
      "%H :  14\n",
      "%I :  02\n",
      "%j :  363\n",
      "%m :  12\n",
      "%M :  45\n",
      "%p :  PM\n",
      "%S :  31\n",
      "%U :  51\n",
      "%w :  6\n",
      "%W :  52\n",
      "%x :  12/29/18\n",
      "%X :  14:45:31\n",
      "%y :  18\n",
      "%Y :  2018\n",
      "%z :  +0800\n"
     ]
    }
   ],
   "source": [
    "# strftime 格式化一个时间\n",
    "# 参数\n",
    "# \n",
    "# help(time.strftime)\n",
    "\n",
    "print(time.strftime('%Y-%m-%d %H:%M:%S'))\n",
    "\n",
    "print('%a : ', time.strftime('%a'))\n",
    "print('%A : ', time.strftime('%A'))\n",
    "print('%b : ', time.strftime('%b'))\n",
    "print('%B : ', time.strftime('%B'))\n",
    "print('%c : ', time.strftime('%c'))\n",
    "print('%d : ', time.strftime('%d'))\n",
    "print('%H : ', time.strftime('%H'))\n",
    "print('%I : ', time.strftime('%I'))\n",
    "print('%j : ', time.strftime('%j'))\n",
    "print('%m : ', time.strftime('%m'))\n",
    "print('%M : ', time.strftime('%M'))\n",
    "print('%p : ', time.strftime('%p'))\n",
    "print('%S : ', time.strftime('%S'))\n",
    "print('%U : ', time.strftime('%U'))\n",
    "print('%w : ', time.strftime('%w'))\n",
    "print('%W : ', time.strftime('%W'))\n",
    "print('%x : ', time.strftime('%x'))\n",
    "print('%X : ', time.strftime('%X'))\n",
    "print('%y : ', time.strftime('%y'))\n",
    "print('%Y : ', time.strftime('%Y'))\n",
    "print('%z : ', time.strftime('%z'))"
   ]
  }
 ],
 "metadata": {
  "kernelspec": {
   "display_name": "Python 3",
   "language": "python",
   "name": "python3"
  },
  "language_info": {
   "codemirror_mode": {
    "name": "ipython",
    "version": 3
   },
   "file_extension": ".py",
   "mimetype": "text/x-python",
   "name": "python",
   "nbconvert_exporter": "python",
   "pygments_lexer": "ipython3",
   "version": "3.7.1"
  }
 },
 "nbformat": 4,
 "nbformat_minor": 2
}
