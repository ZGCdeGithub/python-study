{
 "cells": [
  {
   "cell_type": "markdown",
   "metadata": {},
   "source": [
    "# random\n",
    "    - 随机数操作"
   ]
  },
  {
   "cell_type": "code",
   "execution_count": 2,
   "metadata": {},
   "outputs": [],
   "source": [
    "import random"
   ]
  },
  {
   "cell_type": "code",
   "execution_count": 38,
   "metadata": {},
   "outputs": [
    {
     "name": "stdout",
     "output_type": "stream",
     "text": [
      "0.14867382780542804\n",
      "66\n"
     ]
    }
   ],
   "source": [
    "#random 生成一个0-1之间的数字\n",
    "r = random.random()\n",
    "print(r)\n",
    "\n",
    "# 生成一个0-100之间的随机整数\n",
    "import math\n",
    "r = random.random()*100\n",
    "print(math.ceil(r))"
   ]
  },
  {
   "cell_type": "code",
   "execution_count": 52,
   "metadata": {},
   "outputs": [
    {
     "name": "stdout",
     "output_type": "stream",
     "text": [
      "['0item', '1item', '2item', '3item', '4item', '5item', '6item', '7item', '8item', '9item']\n",
      "2item\n"
     ]
    }
   ],
   "source": [
    "# choice 随机返回序列中的某个值\n",
    "# 参数\n",
    "# sequence 一个不为空的序列\n",
    "# help(random.choice)\n",
    "\n",
    "l = [str(i)+'item' for i in range(10)]\n",
    "print(l)\n",
    "print(random.choice(l))"
   ]
  },
  {
   "cell_type": "code",
   "execution_count": 56,
   "metadata": {},
   "outputs": [
    {
     "name": "stdout",
     "output_type": "stream",
     "text": [
      "[0, 1, 2, 3, 4, 5, 6, 7, 8, 9, 10, 11, 12, 13, 14]\n",
      "None\n",
      "[2, 13, 14, 6, 10, 12, 5, 4, 1, 3, 11, 0, 7, 9, 8]\n"
     ]
    }
   ],
   "source": [
    "# shuffle 随机打乱列表\n",
    "# 参数\n",
    "# x 一个不为空的列表\n",
    "# random 0-1之间的浮点数\n",
    "# help(random.shuffle)\n",
    "\n",
    "l = [i for i in range(15)]\n",
    "print(l)\n",
    "res = random.shuffle(l)\n",
    "print(res)\n",
    "print(l)"
   ]
  },
  {
   "cell_type": "code",
   "execution_count": 73,
   "metadata": {},
   "outputs": [
    {
     "name": "stdout",
     "output_type": "stream",
     "text": [
      "9\n"
     ]
    }
   ],
   "source": [
    "# randint 返回一指定区间的随机整数，包含左右边界\n",
    "# 参数\n",
    "# min 从min开始，包含min\n",
    "# max 到max结束，包含max\n",
    "# return 返回从min - max之间的整数\n",
    "\n",
    "print(random.randint(1,10))\n"
   ]
  }
 ],
 "metadata": {
  "kernelspec": {
   "display_name": "Python 3",
   "language": "python",
   "name": "python3"
  },
  "language_info": {
   "codemirror_mode": {
    "name": "ipython",
    "version": 3
   },
   "file_extension": ".py",
   "mimetype": "text/x-python",
   "name": "python",
   "nbconvert_exporter": "python",
   "pygments_lexer": "ipython3",
   "version": "3.7.1"
  }
 },
 "nbformat": 4,
 "nbformat_minor": 2
}
