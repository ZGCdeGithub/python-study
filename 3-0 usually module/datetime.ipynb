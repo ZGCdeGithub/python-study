{
 "cells": [
  {
   "cell_type": "markdown",
   "metadata": {},
   "source": [
    "# datetime\n",
    "  - 提供日期和时间的运算和表示"
   ]
  },
  {
   "cell_type": "code",
   "execution_count": 2,
   "metadata": {},
   "outputs": [],
   "source": [
    "import datetime"
   ]
  },
  {
   "cell_type": "code",
   "execution_count": 19,
   "metadata": {},
   "outputs": [
    {
     "name": "stdout",
     "output_type": "stream",
     "text": [
      "<class 'datetime.date'>\n",
      "__add__  ::  <method-wrapper '__add__' of datetime.date object at 0x00000000050F43F0>\n",
      "__class__  ::  <class 'datetime.date'>\n",
      "__delattr__  ::  <method-wrapper '__delattr__' of datetime.date object at 0x00000000050F43F0>\n",
      "__dir__  ::  <built-in method __dir__ of datetime.date object at 0x00000000050F43F0>\n",
      "__doc__  ::  date(year, month, day) --> date object\n",
      "__eq__  ::  <method-wrapper '__eq__' of datetime.date object at 0x00000000050F43F0>\n",
      "__format__  ::  <built-in method __format__ of datetime.date object at 0x00000000050F43F0>\n",
      "__ge__  ::  <method-wrapper '__ge__' of datetime.date object at 0x00000000050F43F0>\n",
      "__getattribute__  ::  <method-wrapper '__getattribute__' of datetime.date object at 0x00000000050F43F0>\n",
      "__gt__  ::  <method-wrapper '__gt__' of datetime.date object at 0x00000000050F43F0>\n",
      "__hash__  ::  <method-wrapper '__hash__' of datetime.date object at 0x00000000050F43F0>\n",
      "__init__  ::  <method-wrapper '__init__' of datetime.date object at 0x00000000050F43F0>\n",
      "__init_subclass__  ::  <built-in method __init_subclass__ of type object at 0x000007FEE20D1EF0>\n",
      "__le__  ::  <method-wrapper '__le__' of datetime.date object at 0x00000000050F43F0>\n",
      "__lt__  ::  <method-wrapper '__lt__' of datetime.date object at 0x00000000050F43F0>\n",
      "__ne__  ::  <method-wrapper '__ne__' of datetime.date object at 0x00000000050F43F0>\n",
      "__new__  ::  <built-in method __new__ of type object at 0x000007FEE20D1EF0>\n",
      "__radd__  ::  <method-wrapper '__radd__' of datetime.date object at 0x00000000050F43F0>\n",
      "__reduce__  ::  <built-in method __reduce__ of datetime.date object at 0x00000000050F43F0>\n",
      "__reduce_ex__  ::  <built-in method __reduce_ex__ of datetime.date object at 0x00000000050F43F0>\n",
      "__repr__  ::  <method-wrapper '__repr__' of datetime.date object at 0x00000000050F43F0>\n",
      "__rsub__  ::  <method-wrapper '__rsub__' of datetime.date object at 0x00000000050F43F0>\n",
      "__setattr__  ::  <method-wrapper '__setattr__' of datetime.date object at 0x00000000050F43F0>\n",
      "__sizeof__  ::  <built-in method __sizeof__ of datetime.date object at 0x00000000050F43F0>\n",
      "__str__  ::  <method-wrapper '__str__' of datetime.date object at 0x00000000050F43F0>\n",
      "__sub__  ::  <method-wrapper '__sub__' of datetime.date object at 0x00000000050F43F0>\n",
      "__subclasshook__  ::  <built-in method __subclasshook__ of type object at 0x000007FEE20D1EF0>\n",
      "ctime  ::  <built-in method ctime of datetime.date object at 0x00000000050F43F0>\n",
      "day  ::  29\n",
      "fromisoformat  ::  <built-in method fromisoformat of type object at 0x000007FEE20D1EF0>\n",
      "fromordinal  ::  <built-in method fromordinal of type object at 0x000007FEE20D1EF0>\n",
      "fromtimestamp  ::  <built-in method fromtimestamp of type object at 0x000007FEE20D1EF0>\n",
      "isocalendar  ::  <built-in method isocalendar of datetime.date object at 0x00000000050F43F0>\n",
      "isoformat  ::  <built-in method isoformat of datetime.date object at 0x00000000050F43F0>\n",
      "isoweekday  ::  <built-in method isoweekday of datetime.date object at 0x00000000050F43F0>\n",
      "max  ::  9999-12-31\n",
      "min  ::  0001-01-01\n",
      "month  ::  12\n",
      "replace  ::  <built-in method replace of datetime.date object at 0x00000000050F43F0>\n",
      "resolution  ::  1 day, 0:00:00\n",
      "strftime  ::  <built-in method strftime of datetime.date object at 0x00000000050F43F0>\n",
      "timetuple  ::  <built-in method timetuple of datetime.date object at 0x00000000050F43F0>\n",
      "today  ::  <built-in method today of type object at 0x000007FEE20D1EF0>\n",
      "toordinal  ::  <built-in method toordinal of datetime.date object at 0x00000000050F43F0>\n",
      "weekday  ::  <built-in method weekday of datetime.date object at 0x00000000050F43F0>\n",
      "year  ::  2018\n"
     ]
    }
   ],
   "source": [
    "# date\n",
    "\n",
    "# help(datetime.date)\n",
    "\n",
    "dt = datetime.date(2018,12,29)\n",
    "print(type(dt))\n",
    "# print(dt.__dict__)\n",
    "\n",
    "for i in dir(dt):\n",
    "    print(i, ' :: ', getattr(dt,i))"
   ]
  },
  {
   "cell_type": "code",
   "execution_count": 26,
   "metadata": {},
   "outputs": [
    {
     "name": "stdout",
     "output_type": "stream",
     "text": [
      "14:59:00\n"
     ]
    }
   ],
   "source": [
    "# time\n",
    "\n",
    "# help(datetime.time)\n",
    "\n",
    "dt = datetime.time(14,59,0)\n",
    "print(dt)"
   ]
  },
  {
   "cell_type": "code",
   "execution_count": 49,
   "metadata": {},
   "outputs": [
    {
     "name": "stdout",
     "output_type": "stream",
     "text": [
      "2018-12-29 15:07:10.336402\n",
      "2018-12-29 15:07:10.336402\n",
      "2018-12-29 15:07:10.336402\n",
      "2017 10 1 0 0\n",
      "['__add__', '__class__', '__delattr__', '__dir__', '__doc__', '__eq__', '__format__', '__ge__', '__getattribute__', '__gt__', '__hash__', '__init__', '__init_subclass__', '__le__', '__lt__', '__ne__', '__new__', '__radd__', '__reduce__', '__reduce_ex__', '__repr__', '__rsub__', '__setattr__', '__sizeof__', '__str__', '__sub__', '__subclasshook__', 'astimezone', 'combine', 'ctime', 'date', 'day', 'dst', 'fold', 'fromisoformat', 'fromordinal', 'fromtimestamp', 'hour', 'isocalendar', 'isoformat', 'isoweekday', 'max', 'microsecond', 'min', 'minute', 'month', 'now', 'replace', 'resolution', 'second', 'strftime', 'strptime', 'time', 'timestamp', 'timetuple', 'timetz', 'today', 'toordinal', 'tzinfo', 'tzname', 'utcfromtimestamp', 'utcnow', 'utcoffset', 'utctimetuple', 'weekday', 'year']\n"
     ]
    }
   ],
   "source": [
    "#datetime\n",
    "import time\n",
    "from datetime import datetime\n",
    "\n",
    "dt = datetime(2017, 10, 1)\n",
    "\n",
    "print(dt.today())\n",
    "print(dt.now())\n",
    "print(dt.fromtimestamp(time.time()))\n",
    "print(dt.year, dt.month, dt.day, dt.hour,dt.minute)\n",
    "print(dir(dt))"
   ]
  },
  {
   "cell_type": "code",
   "execution_count": 55,
   "metadata": {},
   "outputs": [
    {
     "name": "stdout",
     "output_type": "stream",
     "text": [
      "2018-12-29 16:12:53\n",
      "2018-12-29 17:12:53\n"
     ]
    }
   ],
   "source": [
    "from datetime import datetime, timedelta\n",
    "\n",
    "t1 = datetime.now()\n",
    "print(t1.strftime('%Y-%m-%d %H:%M:%S'))\n",
    "add = timedelta(hours=1)        #表示一个小时的时间间隔\n",
    "t2 = t1+add                     #在原来时间的基础上加一个小时\n",
    "print(t2.strftime('%Y-%m-%d %H:%M:%S'))"
   ]
  }
 ],
 "metadata": {
  "kernelspec": {
   "display_name": "Python 3",
   "language": "python",
   "name": "python3"
  },
  "language_info": {
   "codemirror_mode": {
    "name": "ipython",
    "version": 3
   },
   "file_extension": ".py",
   "mimetype": "text/x-python",
   "name": "python",
   "nbconvert_exporter": "python",
   "pygments_lexer": "ipython3",
   "version": "3.7.1"
  }
 },
 "nbformat": 4,
 "nbformat_minor": 2
}
